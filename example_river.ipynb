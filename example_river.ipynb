{
 "cells": [
  {
   "cell_type": "code",
   "execution_count": 1,
   "metadata": {},
   "outputs": [],
   "source": [
    "%matplotlib inline\n",
    "import matplotlib.pyplot as plt\n",
    "import seaborn; seaborn.set()"
   ]
  },
  {
   "cell_type": "code",
   "execution_count": 2,
   "metadata": {},
   "outputs": [],
   "source": [
    "import re\n",
    "import sqlite3\n",
    "import pandas as pd\n",
    "import math\n",
    "import numpy as np"
   ]
  },
  {
   "cell_type": "code",
   "execution_count": 3,
   "metadata": {},
   "outputs": [],
   "source": [
    "import geopy.distance\n",
    "from bokeh.plotting import figure, output_file, show\n",
    "from bokeh.tile_providers import CARTODBPOSITRON, get_provider\n",
    "from bokeh.models import ColumnDataSource\n",
    "from pyproj import Proj, transform"
   ]
  },
  {
   "cell_type": "code",
   "execution_count": 4,
   "metadata": {},
   "outputs": [],
   "source": [
    "from sklearn.ensemble import RandomForestClassifier\n",
    "from sklearn.tree import DecisionTreeClassifier\n",
    "from sklearn.model_selection import cross_val_score\n",
    "from sklearn.metrics import precision_score, recall_score, plot_confusion_matrix"
   ]
  },
  {
   "cell_type": "markdown",
   "metadata": {},
   "source": [
    "# Pick an easy river"
   ]
  },
  {
   "cell_type": "markdown",
   "metadata": {},
   "source": [
    "For starters I'm going to look at a single river at a time, and I'll start with an easy one. I expect a river will be easy to predict if:\n",
    " - it has a small catchment area. So the nearest rainfall station is pretty much represntative of all the rain that falls in the catchment\n",
    " - it has a small volume. So the river level will go up and down quickly in response to rainfall. "
   ]
  },
  {
   "cell_type": "markdown",
   "metadata": {},
   "source": [
    "Unfortunatly I don't (currently) have data about catchment size, and river volume, but I can take a guess  based off my own background knnowledge of the region. I would guess that maybe the Kangaroo river would be a good example for this, but lets have a look at its properties to check."
   ]
  },
  {
   "cell_type": "code",
   "execution_count": null,
   "metadata": {},
   "outputs": [],
   "source": [
    "con = sqlite3.connect('./Data/mydb.db')\n",
    "df_stations = pd.read_sql('SELECT * FROM Stations', con)\n",
    "df_gauges = pd.read_sql('SELECT * FROM Gauges', con)\n",
    "df_rainfall = pd.read_sql('SELECT * FROM Rainfall', con, index_col=['station_id', 'date'])\n",
    "df_levels = pd.read_sql('SELECT * FROM Levels', con, index_col=['gauge_id', 'date'])"
   ]
  },
  {
   "cell_type": "markdown",
   "metadata": {},
   "source": [
    "Allen river (barrington tops), Williams river (barrington tops), Bielsdown"
   ]
  },
  {
   "cell_type": "code",
   "execution_count": 11,
   "metadata": {},
   "outputs": [
    {
     "data": {
      "text/html": [
       "<div>\n",
       "<style scoped>\n",
       "    .dataframe tbody tr th:only-of-type {\n",
       "        vertical-align: middle;\n",
       "    }\n",
       "\n",
       "    .dataframe tbody tr th {\n",
       "        vertical-align: top;\n",
       "    }\n",
       "\n",
       "    .dataframe thead th {\n",
       "        text-align: right;\n",
       "    }\n",
       "</style>\n",
       "<table border=\"1\" class=\"dataframe\">\n",
       "  <thead>\n",
       "    <tr style=\"text-align: right;\">\n",
       "      <th></th>\n",
       "      <th>id</th>\n",
       "      <th>name</th>\n",
       "      <th>lat</th>\n",
       "      <th>long</th>\n",
       "      <th>elev</th>\n",
       "      <th>NearestStat</th>\n",
       "    </tr>\n",
       "  </thead>\n",
       "  <tbody>\n",
       "  </tbody>\n",
       "</table>\n",
       "</div>"
      ],
      "text/plain": [
       "Empty DataFrame\n",
       "Columns: [id, name, lat, long, elev, NearestStat]\n",
       "Index: []"
      ]
     },
     "execution_count": 11,
     "metadata": {},
     "output_type": "execute_result"
    }
   ],
   "source": [
    "df_gauges[df_gauges['name'].str.contains('Kangaroo')]"
   ]
  },
  {
   "cell_type": "code",
   "execution_count": 12,
   "metadata": {},
   "outputs": [
    {
     "data": {
      "text/html": [
       "<div>\n",
       "<style scoped>\n",
       "    .dataframe tbody tr th:only-of-type {\n",
       "        vertical-align: middle;\n",
       "    }\n",
       "\n",
       "    .dataframe tbody tr th {\n",
       "        vertical-align: top;\n",
       "    }\n",
       "\n",
       "    .dataframe thead th {\n",
       "        text-align: right;\n",
       "    }\n",
       "</style>\n",
       "<table border=\"1\" class=\"dataframe\">\n",
       "  <thead>\n",
       "    <tr style=\"text-align: right;\">\n",
       "      <th></th>\n",
       "      <th>id</th>\n",
       "      <th>name</th>\n",
       "      <th>lat</th>\n",
       "      <th>long</th>\n",
       "      <th>elev</th>\n",
       "      <th>NearestStat</th>\n",
       "    </tr>\n",
       "  </thead>\n",
       "  <tbody>\n",
       "  </tbody>\n",
       "</table>\n",
       "</div>"
      ],
      "text/plain": [
       "Empty DataFrame\n",
       "Columns: [id, name, lat, long, elev, NearestStat]\n",
       "Index: []"
      ]
     },
     "execution_count": 12,
     "metadata": {},
     "output_type": "execute_result"
    }
   ],
   "source": [
    "df_gauges[df_gauges.id==215220]"
   ]
  },
  {
   "cell_type": "markdown",
   "metadata": {},
   "source": [
    "## Fetch raw data - hourly"
   ]
  },
  {
   "cell_type": "markdown",
   "metadata": {},
   "source": [
    "hmmm, I seem to be missing data for the kangaroo river... I wonder why. For now I'll manually fetch the csv (from https://realtimedata.waternsw.com.au/) and I'll look into this problem later. "
   ]
  },
  {
   "cell_type": "code",
   "execution_count": 13,
   "metadata": {},
   "outputs": [
    {
     "name": "stderr",
     "output_type": "stream",
     "text": [
      "/home/jemma/anaconda3/envs/river_levels/lib/python3.7/site-packages/IPython/core/interactiveshell.py:3063: DtypeWarning: Columns (1,2,3,4,5,6) have mixed types.Specify dtype option on import or set low_memory=False.\n",
      "  interactivity=interactivity, compiler=compiler, result=result)\n"
     ]
    }
   ],
   "source": [
    "df_levels = pd.read_csv('./Data/riverlevels/215220.csv')\n",
    "df_levels = df_levels[['Time', '215220', 'Unnamed: 6']]\n",
    "df_levels.columns = ['datetime', 'level', 'quality']\n",
    "df_levels = df_levels.iloc[3:]\n",
    "df_levels = df_levels.dropna()\n",
    "df_levels['datetime'] = pd.to_datetime(df_levels['datetime'])\n",
    "df_levels = df_levels.set_index('datetime')\n",
    "df_levels['level'] = pd.to_numeric(df_levels['level'])"
   ]
  },
  {
   "cell_type": "code",
   "execution_count": 14,
   "metadata": {},
   "outputs": [
    {
     "data": {
      "text/plain": [
       "<matplotlib.axes._subplots.AxesSubplot at 0x7fd20f252210>"
      ]
     },
     "execution_count": 14,
     "metadata": {},
     "output_type": "execute_result"
    },
    {
     "data": {
      "image/png": "[encoded data removed]",
      "text/plain": [
       "<Figure size 432x288 with 1 Axes>"
      ]
     },
     "metadata": {},
     "output_type": "display_data"
    }
   ],
   "source": [
    "df_levels.loc['1975-01-01':'1980-01-01', 'level'].plot()"
   ]
  },
  {
   "cell_type": "code",
   "execution_count": 15,
   "metadata": {},
   "outputs": [
    {
     "data": {
      "text/plain": [
       "<matplotlib.axes._subplots.AxesSubplot at 0x7fd1fa9baad0>"
      ]
     },
     "execution_count": 15,
     "metadata": {},
     "output_type": "execute_result"
    },
    {
     "data": {
      "image/png": "[encoded data removed]",
      "text/plain": [
       "<Figure size 432x288 with 1 Axes>"
      ]
     },
     "metadata": {},
     "output_type": "display_data"
    }
   ],
   "source": [
    "df_levels.loc['2015-01-01':'2015-05-01', 'level'].plot()"
   ]
  },
  {
   "cell_type": "markdown",
   "metadata": {},
   "source": [
    "The kangaroo goes up and down a loooot! Much more than I would expect other rivers. Maybe the interesting points of this are around rainfall events, rather than around rising above minimum. "
   ]
  },
  {
   "cell_type": "markdown",
   "metadata": {},
   "source": [
    "## Rainfall"
   ]
  },
  {
   "cell_type": "markdown",
   "metadata": {},
   "source": [
    "We have a lot of rainfall to stations to choose from. We want one which will tell us how much water is going into the kangaroo river. Lets see how well we can do by just looking at the nearest rainfall station."
   ]
  },
  {
   "cell_type": "markdown",
   "metadata": {},
   "source": [
    "Get the lat lon of the gauge at kangaroo. It's in the metadata in the river levels file which is culled on clean up. "
   ]
  },
  {
   "cell_type": "code",
   "execution_count": 16,
   "metadata": {},
   "outputs": [
    {
     "data": {
      "text/plain": [
       "'215220 - KANGAROO RIVER AT HAMPDEN BRIDGE Lat:-34.72798991 Long:150.52244073 Elev:70m'"
      ]
     },
     "metadata": {},
     "output_type": "display_data"
    },
    {
     "data": {
      "text/plain": [
       "(-34.72798991, 150.52244073)"
      ]
     },
     "execution_count": 16,
     "metadata": {},
     "output_type": "execute_result"
    }
   ],
   "source": [
    "metadata = pd.read_csv('./Data/riverlevels/215220.csv', low_memory=False)['Unnamed: 7'][4]\n",
    "display(metadata)\n",
    "\n",
    "lat_lon_regex = '.* Lat:(?P<lat>[0-9\\.-]*) Long:(?P<lon>[0-9\\.-]*) .*'\n",
    "lat_lon_regex_result = re.search(lat_lon_regex, metadata)\n",
    "lat = float(lat_lon_regex_result.group('lat'))\n",
    "lon = float(lat_lon_regex_result.group('lon'))\n",
    "lat, lon"
   ]
  },
  {
   "cell_type": "markdown",
   "metadata": {},
   "source": [
    "For each rainfall station, calculate its distance from our gauge. Pick the nearest."
   ]
  },
  {
   "cell_type": "code",
   "execution_count": 17,
   "metadata": {},
   "outputs": [
    {
     "data": {
      "text/html": [
       "<div>\n",
       "<style scoped>\n",
       "    .dataframe tbody tr th:only-of-type {\n",
       "        vertical-align: middle;\n",
       "    }\n",
       "\n",
       "    .dataframe tbody tr th {\n",
       "        vertical-align: top;\n",
       "    }\n",
       "\n",
       "    .dataframe thead th {\n",
       "        text-align: right;\n",
       "    }\n",
       "</style>\n",
       "<table border=\"1\" class=\"dataframe\">\n",
       "  <thead>\n",
       "    <tr style=\"text-align: right;\">\n",
       "      <th></th>\n",
       "      <th>id</th>\n",
       "      <th>name</th>\n",
       "      <th>opened_year</th>\n",
       "      <th>closed</th>\n",
       "      <th>lat</th>\n",
       "      <th>long</th>\n",
       "      <th>elev</th>\n",
       "      <th>state</th>\n",
       "      <th>dist</th>\n",
       "    </tr>\n",
       "  </thead>\n",
       "  <tbody>\n",
       "    <tr>\n",
       "      <th>361</th>\n",
       "      <td>68136</td>\n",
       "      <td>BOMADERRY</td>\n",
       "      <td>1903</td>\n",
       "      <td>None</td>\n",
       "      <td>-34.85</td>\n",
       "      <td>150.62</td>\n",
       "      <td>8</td>\n",
       "      <td>NSW</td>\n",
       "      <td>16.215134</td>\n",
       "    </tr>\n",
       "  </tbody>\n",
       "</table>\n",
       "</div>"
      ],
      "text/plain": [
       "        id        name  opened_year closed    lat    long  elev state  \\\n",
       "361  68136   BOMADERRY         1903   None -34.85  150.62     8   NSW   \n",
       "\n",
       "          dist  \n",
       "361  16.215134  "
      ]
     },
     "execution_count": 17,
     "metadata": {},
     "output_type": "execute_result"
    }
   ],
   "source": [
    "def add_distances(lat, lon, df_stations):\n",
    "    df_stations['dist'] = df_stations.apply(lambda x: geopy.distance.geodesic((lat, lon), (x.lat, x.long)).km, axis=1)\n",
    "    return df_stations\n",
    "\n",
    "def get_id_nth_nearest_station(lat, lon, df_stations, n):\n",
    "    df_stations = add_distances(lat, lon, df_stations)\n",
    "    return df_stations.sort_values('dist').iloc[n].id\n",
    "\n",
    "nearest_station_id = get_id_nth_nearest_station(lat, lon, df_stations, 0)\n",
    "df_stations[df_stations.id == nearest_station_id]"
   ]
  },
  {
   "cell_type": "markdown",
   "metadata": {},
   "source": [
    "Now lets have a quick look at the how well the rainfall seems to match up with the river levels. We would expect to see every spike in river levels associated with a spike in rainfall. "
   ]
  },
  {
   "cell_type": "code",
   "execution_count": 18,
   "metadata": {},
   "outputs": [
    {
     "data": {
      "text/plain": [
       "<matplotlib.axes._subplots.AxesSubplot at 0x7fd278919210>"
      ]
     },
     "execution_count": 18,
     "metadata": {},
     "output_type": "execute_result"
    },
    {
     "data": {
      "image/png": "[encoded data removed]",
      "text/plain": [
       "<Figure size 432x288 with 1 Axes>"
      ]
     },
     "metadata": {},
     "output_type": "display_data"
    }
   ],
   "source": [
    "date_range = ('2015-01-01', '2015-03-01')\n",
    "df_levels.loc[date_range[0]:date_range[1], 'level'].plot()"
   ]
  },
  {
   "cell_type": "code",
   "execution_count": 19,
   "metadata": {},
   "outputs": [
    {
     "data": {
      "text/plain": [
       "<matplotlib.axes._subplots.AxesSubplot at 0x7fd1fa9ba990>"
      ]
     },
     "execution_count": 19,
     "metadata": {},
     "output_type": "execute_result"
    },
    {
     "data": {
      "image/png": "[encoded data removed]",
      "text/plain": [
       "<Figure size 432x288 with 1 Axes>"
      ]
     },
     "metadata": {},
     "output_type": "display_data"
    }
   ],
   "source": [
    "rainfall_kang = df_rainfall.loc[nearest_station_id]\n",
    "rainfall_kang.loc[date_range[0]:date_range[1], 'rainfall'].plot()"
   ]
  },
  {
   "cell_type": "markdown",
   "metadata": {},
   "source": [
    "Oh dear... this rainfall station has no data for this date range. That isn't going to be very useful. How about we try the next closest rainfall station. "
   ]
  },
  {
   "cell_type": "code",
   "execution_count": 20,
   "metadata": {},
   "outputs": [
    {
     "data": {
      "text/plain": [
       "<matplotlib.axes._subplots.AxesSubplot at 0x7fd279031150>"
      ]
     },
     "execution_count": 20,
     "metadata": {},
     "output_type": "execute_result"
    },
    {
     "data": {
      "image/png": "[encoded data removed]",
      "text/plain": [
       "<Figure size 432x288 with 1 Axes>"
      ]
     },
     "metadata": {},
     "output_type": "display_data"
    }
   ],
   "source": [
    "next_nearest_station_id = get_id_nth_nearest_station(lat, lon, df_stations, 1)\n",
    "rainfall_kang = df_rainfall.loc[next_nearest_station_id]\n",
    "rainfall_kang.loc[date_range[0]:date_range[1], 'rainfall'].plot()"
   ]
  },
  {
   "cell_type": "markdown",
   "metadata": {},
   "source": [
    "This seems pretty good... Where is it though?"
   ]
  },
  {
   "cell_type": "markdown",
   "metadata": {},
   "source": [
    "## Find a good gauge"
   ]
  },
  {
   "cell_type": "markdown",
   "metadata": {},
   "source": [
    "Where are all our stations? Lets plot the nearby rainfall stations on a map to see what our cmhoices are..."
   ]
  },
  {
   "cell_type": "code",
   "execution_count": 21,
   "metadata": {},
   "outputs": [],
   "source": [
    "def lon_lat_to_wm(lon, lat):\n",
    "    wm_x, wm_y = transform(Proj(init='epsg:4326'), Proj(init='epsg:3857'), lon, lat)  # longitude first, latitude second.\n",
    "    return wm_x, wm_y"
   ]
  },
  {
   "cell_type": "code",
   "execution_count": 22,
   "metadata": {},
   "outputs": [
    {
     "data": {
      "text/html": [
       "<div>\n",
       "<style scoped>\n",
       "    .dataframe tbody tr th:only-of-type {\n",
       "        vertical-align: middle;\n",
       "    }\n",
       "\n",
       "    .dataframe tbody tr th {\n",
       "        vertical-align: top;\n",
       "    }\n",
       "\n",
       "    .dataframe thead th {\n",
       "        text-align: right;\n",
       "    }\n",
       "</style>\n",
       "<table border=\"1\" class=\"dataframe\">\n",
       "  <thead>\n",
       "    <tr style=\"text-align: right;\">\n",
       "      <th></th>\n",
       "      <th>id</th>\n",
       "      <th>name</th>\n",
       "      <th>opened_year</th>\n",
       "      <th>closed</th>\n",
       "      <th>lat</th>\n",
       "      <th>long</th>\n",
       "      <th>elev</th>\n",
       "      <th>state</th>\n",
       "      <th>dist</th>\n",
       "      <th>wm_x</th>\n",
       "      <th>wm_y</th>\n",
       "    </tr>\n",
       "  </thead>\n",
       "  <tbody>\n",
       "    <tr>\n",
       "      <th>0</th>\n",
       "      <td>46024</td>\n",
       "      <td>WILCANNIA (MURTEE)</td>\n",
       "      <td>1923</td>\n",
       "      <td>None</td>\n",
       "      <td>-31.58</td>\n",
       "      <td>143.49</td>\n",
       "      <td>60</td>\n",
       "      <td>NSW</td>\n",
       "      <td>742.900632</td>\n",
       "      <td>1.597323e+07</td>\n",
       "      <td>-3.708304e+06</td>\n",
       "    </tr>\n",
       "    <tr>\n",
       "      <th>1</th>\n",
       "      <td>47019</td>\n",
       "      <td>MENINDEE POST OFFICE</td>\n",
       "      <td>1876</td>\n",
       "      <td>None</td>\n",
       "      <td>-32.39</td>\n",
       "      <td>142.42</td>\n",
       "      <td>61</td>\n",
       "      <td>NSW</td>\n",
       "      <td>795.526485</td>\n",
       "      <td>1.585412e+07</td>\n",
       "      <td>-3.814614e+06</td>\n",
       "    </tr>\n",
       "    <tr>\n",
       "      <th>2</th>\n",
       "      <td>47051</td>\n",
       "      <td>TANGRAMBALLY</td>\n",
       "      <td>1952</td>\n",
       "      <td>None</td>\n",
       "      <td>-34.50</td>\n",
       "      <td>143.67</td>\n",
       "      <td>-9999</td>\n",
       "      <td>NSW</td>\n",
       "      <td>628.856981</td>\n",
       "      <td>1.599327e+07</td>\n",
       "      <td>-4.096139e+06</td>\n",
       "    </tr>\n",
       "    <tr>\n",
       "      <th>3</th>\n",
       "      <td>47100</td>\n",
       "      <td>WENTWORTH LOCK 10 (MURRAY RIVER)</td>\n",
       "      <td>1872</td>\n",
       "      <td>None</td>\n",
       "      <td>-34.11</td>\n",
       "      <td>141.90</td>\n",
       "      <td>-9999</td>\n",
       "      <td>NSW</td>\n",
       "      <td>795.361253</td>\n",
       "      <td>1.579624e+07</td>\n",
       "      <td>-4.043582e+06</td>\n",
       "    </tr>\n",
       "    <tr>\n",
       "      <th>4</th>\n",
       "      <td>48009</td>\n",
       "      <td>CARINDA (BOOROOMA)</td>\n",
       "      <td>1881</td>\n",
       "      <td>None</td>\n",
       "      <td>-30.10</td>\n",
       "      <td>147.46</td>\n",
       "      <td>122</td>\n",
       "      <td>NSW</td>\n",
       "      <td>588.449269</td>\n",
       "      <td>1.641517e+07</td>\n",
       "      <td>-3.516410e+06</td>\n",
       "    </tr>\n",
       "    <tr>\n",
       "      <th>...</th>\n",
       "      <td>...</td>\n",
       "      <td>...</td>\n",
       "      <td>...</td>\n",
       "      <td>...</td>\n",
       "      <td>...</td>\n",
       "      <td>...</td>\n",
       "      <td>...</td>\n",
       "      <td>...</td>\n",
       "      <td>...</td>\n",
       "      <td>...</td>\n",
       "      <td>...</td>\n",
       "    </tr>\n",
       "    <tr>\n",
       "      <th>499</th>\n",
       "      <td>75128</td>\n",
       "      <td>WHEALBAH</td>\n",
       "      <td>1900</td>\n",
       "      <td>None</td>\n",
       "      <td>-33.72</td>\n",
       "      <td>145.30</td>\n",
       "      <td>-9999</td>\n",
       "      <td>NSW</td>\n",
       "      <td>493.957843</td>\n",
       "      <td>1.617472e+07</td>\n",
       "      <td>-3.991267e+06</td>\n",
       "    </tr>\n",
       "    <tr>\n",
       "      <th>500</th>\n",
       "      <td>75137</td>\n",
       "      <td>HAY (PEVENSEY)</td>\n",
       "      <td>1967</td>\n",
       "      <td>None</td>\n",
       "      <td>-34.56</td>\n",
       "      <td>144.64</td>\n",
       "      <td>85</td>\n",
       "      <td>NSW</td>\n",
       "      <td>539.557507</td>\n",
       "      <td>1.610125e+07</td>\n",
       "      <td>-4.104247e+06</td>\n",
       "    </tr>\n",
       "    <tr>\n",
       "      <th>501</th>\n",
       "      <td>75157</td>\n",
       "      <td>THE CUBAS</td>\n",
       "      <td>1887</td>\n",
       "      <td>None</td>\n",
       "      <td>-33.87</td>\n",
       "      <td>144.88</td>\n",
       "      <td>94</td>\n",
       "      <td>NSW</td>\n",
       "      <td>528.012406</td>\n",
       "      <td>1.612797e+07</td>\n",
       "      <td>-4.011360e+06</td>\n",
       "    </tr>\n",
       "    <tr>\n",
       "      <th>502</th>\n",
       "      <td>75163</td>\n",
       "      <td>HILLSTON  ( ALDINGA)</td>\n",
       "      <td>1971</td>\n",
       "      <td>None</td>\n",
       "      <td>-33.35</td>\n",
       "      <td>145.87</td>\n",
       "      <td>135</td>\n",
       "      <td>NSW</td>\n",
       "      <td>455.941177</td>\n",
       "      <td>1.623817e+07</td>\n",
       "      <td>-3.941853e+06</td>\n",
       "    </tr>\n",
       "    <tr>\n",
       "      <th>503</th>\n",
       "      <td>75166</td>\n",
       "      <td>DARLINGTON POINT (COUNCIL DEPOT)</td>\n",
       "      <td>1909</td>\n",
       "      <td>None</td>\n",
       "      <td>-34.57</td>\n",
       "      <td>146.00</td>\n",
       "      <td>125</td>\n",
       "      <td>NSW</td>\n",
       "      <td>414.935727</td>\n",
       "      <td>1.625265e+07</td>\n",
       "      <td>-4.105598e+06</td>\n",
       "    </tr>\n",
       "  </tbody>\n",
       "</table>\n",
       "<p>504 rows × 11 columns</p>\n",
       "</div>"
      ],
      "text/plain": [
       "        id                               name  opened_year closed    lat  \\\n",
       "0    46024                 WILCANNIA (MURTEE)         1923   None -31.58   \n",
       "1    47019               MENINDEE POST OFFICE         1876   None -32.39   \n",
       "2    47051                       TANGRAMBALLY         1952   None -34.50   \n",
       "3    47100   WENTWORTH LOCK 10 (MURRAY RIVER)         1872   None -34.11   \n",
       "4    48009                 CARINDA (BOOROOMA)         1881   None -30.10   \n",
       "..     ...                                ...          ...    ...    ...   \n",
       "499  75128                           WHEALBAH         1900   None -33.72   \n",
       "500  75137                     HAY (PEVENSEY)         1967   None -34.56   \n",
       "501  75157                          THE CUBAS         1887   None -33.87   \n",
       "502  75163               HILLSTON  ( ALDINGA)         1971   None -33.35   \n",
       "503  75166   DARLINGTON POINT (COUNCIL DEPOT)         1909   None -34.57   \n",
       "\n",
       "       long  elev state        dist          wm_x          wm_y  \n",
       "0    143.49    60   NSW  742.900632  1.597323e+07 -3.708304e+06  \n",
       "1    142.42    61   NSW  795.526485  1.585412e+07 -3.814614e+06  \n",
       "2    143.67 -9999   NSW  628.856981  1.599327e+07 -4.096139e+06  \n",
       "3    141.90 -9999   NSW  795.361253  1.579624e+07 -4.043582e+06  \n",
       "4    147.46   122   NSW  588.449269  1.641517e+07 -3.516410e+06  \n",
       "..      ...   ...   ...         ...           ...           ...  \n",
       "499  145.30 -9999   NSW  493.957843  1.617472e+07 -3.991267e+06  \n",
       "500  144.64    85   NSW  539.557507  1.610125e+07 -4.104247e+06  \n",
       "501  144.88    94   NSW  528.012406  1.612797e+07 -4.011360e+06  \n",
       "502  145.87   135   NSW  455.941177  1.623817e+07 -3.941853e+06  \n",
       "503  146.00   125   NSW  414.935727  1.625265e+07 -4.105598e+06  \n",
       "\n",
       "[504 rows x 11 columns]"
      ]
     },
     "execution_count": 22,
     "metadata": {},
     "output_type": "execute_result"
    }
   ],
   "source": [
    "station_distances = add_distances(lat, lon, df_stations)\n",
    "station_distances['wm_x'] = station_distances.apply(lambda x: lon_lat_to_wm(x.long, x.lat)[0], axis=1)\n",
    "station_distances['wm_y'] = station_distances.apply(lambda x: lon_lat_to_wm(x.long, x.lat)[1], axis=1)\n",
    "station_distances"
   ]
  },
  {
   "cell_type": "code",
   "execution_count": null,
   "metadata": {},
   "outputs": [],
   "source": [
    "output_file(\"tile.html\")\n",
    "tile_provider = get_provider(CARTODBPOSITRON)\n",
    "\n",
    "# define our points in web mercator\n",
    "wm_x, wm_y = lon_lat_to_wm(lon, lat)\n",
    "rainfall_station_location = ColumnDataSource(station_distances)\n",
    "\n",
    "# define the hover information\n",
    "tooltips = [\n",
    "    ('Name', '@name'),\n",
    "    ('Distance from gauge', '@d_kang')\n",
    "]\n",
    "\n",
    "# range bounds supplied in web mercator coordinates\n",
    "plot_size = 100000\n",
    "x_range = (wm_x-plot_size/2, wm_x+plot_size/2)\n",
    "y_range = (wm_y-plot_size/2, wm_y+plot_size/2)\n",
    "\n",
    "# make the plot\n",
    "p = figure(x_range=x_range, y_range=y_range, x_axis_type=\"mercator\", y_axis_type=\"mercator\", tooltips=tooltips)\n",
    "p.add_tile(tile_provider)\n",
    "p.circle(x=[wm_x], y=[wm_y], size=10, fill_color=\"red\")\n",
    "p.circle(x=\"wm_x\", y=\"wm_y\", size=15, fill_color=\"blue\", fill_alpha=0.8, source=rainfall_station_location)\n",
    "\n",
    "show(p)"
   ]
  },
  {
   "cell_type": "markdown",
   "metadata": {},
   "source": [
    "OK, so none of the stations are particularly close, and none are on the plateu. So now we're choosing betweeen bad options. "
   ]
  },
  {
   "cell_type": "markdown",
   "metadata": {},
   "source": [
    "## Choose station based off correlation"
   ]
  },
  {
   "cell_type": "markdown",
   "metadata": {},
   "source": [
    "To choose between the nearby stations, lets look at how well the rainfall levels correlate with the river level. I expect that the relationship will between rainfall and river level will be highly non-linear and incorporate some time delay."
   ]
  },
  {
   "cell_type": "code",
   "execution_count": 23,
   "metadata": {},
   "outputs": [],
   "source": [
    "df_levels_max_daily = df_levels.groupby(df_levels.index.date).max()\n",
    "df_levels_max_daily.index = pd.to_datetime(df_levels_max_daily.index)"
   ]
  },
  {
   "cell_type": "markdown",
   "metadata": {},
   "source": [
    "Match each river level with the rainfall of the previous day - at a particular gauge"
   ]
  },
  {
   "cell_type": "code",
   "execution_count": 24,
   "metadata": {},
   "outputs": [],
   "source": [
    "def get_rainfall_at_station(df_rainfall, station_id):\n",
    "    rainfall_at_nearest = df_rainfall.loc[station_id]\n",
    "    rainfall_at_nearest.index = pd.to_datetime(rainfall_at_nearest.index)\n",
    "    return rainfall_at_nearest"
   ]
  },
  {
   "cell_type": "code",
   "execution_count": 25,
   "metadata": {},
   "outputs": [
    {
     "data": {
      "text/html": [
       "<div>\n",
       "<style scoped>\n",
       "    .dataframe tbody tr th:only-of-type {\n",
       "        vertical-align: middle;\n",
       "    }\n",
       "\n",
       "    .dataframe tbody tr th {\n",
       "        vertical-align: top;\n",
       "    }\n",
       "\n",
       "    .dataframe thead th {\n",
       "        text-align: right;\n",
       "    }\n",
       "</style>\n",
       "<table border=\"1\" class=\"dataframe\">\n",
       "  <thead>\n",
       "    <tr style=\"text-align: right;\">\n",
       "      <th></th>\n",
       "      <th>level</th>\n",
       "      <th>68136</th>\n",
       "      <th>68003</th>\n",
       "      <th>68031</th>\n",
       "      <th>68168</th>\n",
       "      <th>68076</th>\n",
       "      <th>68154</th>\n",
       "      <th>70078</th>\n",
       "      <th>68166</th>\n",
       "      <th>70039</th>\n",
       "      <th>69049</th>\n",
       "      <th>48178</th>\n",
       "    </tr>\n",
       "  </thead>\n",
       "  <tbody>\n",
       "    <tr>\n",
       "      <th>1973-01-12</th>\n",
       "      <td>0.837</td>\n",
       "      <td>NaN</td>\n",
       "      <td>0.0</td>\n",
       "      <td>NaN</td>\n",
       "      <td>0.0</td>\n",
       "      <td>0.0</td>\n",
       "      <td>NaN</td>\n",
       "      <td>NaN</td>\n",
       "      <td>0.0</td>\n",
       "      <td>0.0</td>\n",
       "      <td>0.0</td>\n",
       "      <td>NaN</td>\n",
       "    </tr>\n",
       "    <tr>\n",
       "      <th>1973-02-12</th>\n",
       "      <td>0.747</td>\n",
       "      <td>NaN</td>\n",
       "      <td>9.9</td>\n",
       "      <td>NaN</td>\n",
       "      <td>8.6</td>\n",
       "      <td>3.3</td>\n",
       "      <td>NaN</td>\n",
       "      <td>NaN</td>\n",
       "      <td>2.8</td>\n",
       "      <td>4.6</td>\n",
       "      <td>4.8</td>\n",
       "      <td>NaN</td>\n",
       "    </tr>\n",
       "    <tr>\n",
       "      <th>1973-03-12</th>\n",
       "      <td>0.746</td>\n",
       "      <td>NaN</td>\n",
       "      <td>0.0</td>\n",
       "      <td>NaN</td>\n",
       "      <td>0.0</td>\n",
       "      <td>0.0</td>\n",
       "      <td>NaN</td>\n",
       "      <td>NaN</td>\n",
       "      <td>0.0</td>\n",
       "      <td>0.0</td>\n",
       "      <td>0.0</td>\n",
       "      <td>NaN</td>\n",
       "    </tr>\n",
       "    <tr>\n",
       "      <th>1973-04-12</th>\n",
       "      <td>0.688</td>\n",
       "      <td>NaN</td>\n",
       "      <td>3.6</td>\n",
       "      <td>NaN</td>\n",
       "      <td>0.0</td>\n",
       "      <td>3.0</td>\n",
       "      <td>NaN</td>\n",
       "      <td>NaN</td>\n",
       "      <td>1.0</td>\n",
       "      <td>3.8</td>\n",
       "      <td>0.8</td>\n",
       "      <td>NaN</td>\n",
       "    </tr>\n",
       "    <tr>\n",
       "      <th>1973-05-12</th>\n",
       "      <td>0.861</td>\n",
       "      <td>NaN</td>\n",
       "      <td>0.0</td>\n",
       "      <td>NaN</td>\n",
       "      <td>0.0</td>\n",
       "      <td>0.0</td>\n",
       "      <td>NaN</td>\n",
       "      <td>NaN</td>\n",
       "      <td>0.0</td>\n",
       "      <td>0.0</td>\n",
       "      <td>0.0</td>\n",
       "      <td>NaN</td>\n",
       "    </tr>\n",
       "    <tr>\n",
       "      <th>1973-06-11</th>\n",
       "      <td>0.525</td>\n",
       "      <td>NaN</td>\n",
       "      <td>0.0</td>\n",
       "      <td>NaN</td>\n",
       "      <td>0.0</td>\n",
       "      <td>0.0</td>\n",
       "      <td>NaN</td>\n",
       "      <td>NaN</td>\n",
       "      <td>0.0</td>\n",
       "      <td>5.1</td>\n",
       "      <td>0.3</td>\n",
       "      <td>NaN</td>\n",
       "    </tr>\n",
       "    <tr>\n",
       "      <th>1973-06-12</th>\n",
       "      <td>0.738</td>\n",
       "      <td>NaN</td>\n",
       "      <td>22.4</td>\n",
       "      <td>NaN</td>\n",
       "      <td>16.3</td>\n",
       "      <td>19.8</td>\n",
       "      <td>NaN</td>\n",
       "      <td>NaN</td>\n",
       "      <td>8.4</td>\n",
       "      <td>19.1</td>\n",
       "      <td>10.7</td>\n",
       "      <td>NaN</td>\n",
       "    </tr>\n",
       "    <tr>\n",
       "      <th>1973-07-11</th>\n",
       "      <td>0.915</td>\n",
       "      <td>NaN</td>\n",
       "      <td>13.0</td>\n",
       "      <td>NaN</td>\n",
       "      <td>11.4</td>\n",
       "      <td>1.5</td>\n",
       "      <td>NaN</td>\n",
       "      <td>NaN</td>\n",
       "      <td>5.1</td>\n",
       "      <td>2.0</td>\n",
       "      <td>0.8</td>\n",
       "      <td>NaN</td>\n",
       "    </tr>\n",
       "    <tr>\n",
       "      <th>1973-07-12</th>\n",
       "      <td>0.642</td>\n",
       "      <td>NaN</td>\n",
       "      <td>0.0</td>\n",
       "      <td>NaN</td>\n",
       "      <td>0.8</td>\n",
       "      <td>0.0</td>\n",
       "      <td>NaN</td>\n",
       "      <td>NaN</td>\n",
       "      <td>0.0</td>\n",
       "      <td>0.0</td>\n",
       "      <td>0.3</td>\n",
       "      <td>NaN</td>\n",
       "    </tr>\n",
       "    <tr>\n",
       "      <th>1973-08-11</th>\n",
       "      <td>0.676</td>\n",
       "      <td>NaN</td>\n",
       "      <td>21.6</td>\n",
       "      <td>NaN</td>\n",
       "      <td>12.2</td>\n",
       "      <td>16.8</td>\n",
       "      <td>NaN</td>\n",
       "      <td>NaN</td>\n",
       "      <td>0.0</td>\n",
       "      <td>11.7</td>\n",
       "      <td>11.9</td>\n",
       "      <td>NaN</td>\n",
       "    </tr>\n",
       "  </tbody>\n",
       "</table>\n",
       "</div>"
      ],
      "text/plain": [
       "            level  68136  68003  68031  68168  68076  68154  70078  68166  \\\n",
       "1973-01-12  0.837    NaN    0.0    NaN    0.0    0.0    NaN    NaN    0.0   \n",
       "1973-02-12  0.747    NaN    9.9    NaN    8.6    3.3    NaN    NaN    2.8   \n",
       "1973-03-12  0.746    NaN    0.0    NaN    0.0    0.0    NaN    NaN    0.0   \n",
       "1973-04-12  0.688    NaN    3.6    NaN    0.0    3.0    NaN    NaN    1.0   \n",
       "1973-05-12  0.861    NaN    0.0    NaN    0.0    0.0    NaN    NaN    0.0   \n",
       "1973-06-11  0.525    NaN    0.0    NaN    0.0    0.0    NaN    NaN    0.0   \n",
       "1973-06-12  0.738    NaN   22.4    NaN   16.3   19.8    NaN    NaN    8.4   \n",
       "1973-07-11  0.915    NaN   13.0    NaN   11.4    1.5    NaN    NaN    5.1   \n",
       "1973-07-12  0.642    NaN    0.0    NaN    0.8    0.0    NaN    NaN    0.0   \n",
       "1973-08-11  0.676    NaN   21.6    NaN   12.2   16.8    NaN    NaN    0.0   \n",
       "\n",
       "            70039  69049  48178  \n",
       "1973-01-12    0.0    0.0    NaN  \n",
       "1973-02-12    4.6    4.8    NaN  \n",
       "1973-03-12    0.0    0.0    NaN  \n",
       "1973-04-12    3.8    0.8    NaN  \n",
       "1973-05-12    0.0    0.0    NaN  \n",
       "1973-06-11    5.1    0.3    NaN  \n",
       "1973-06-12   19.1   10.7    NaN  \n",
       "1973-07-11    2.0    0.8    NaN  \n",
       "1973-07-12    0.0    0.3    NaN  \n",
       "1973-08-11   11.7   11.9    NaN  "
      ]
     },
     "execution_count": 25,
     "metadata": {},
     "output_type": "execute_result"
    }
   ],
   "source": [
    "df_kang = df_levels_max_daily\n",
    "nearest_station_ids = [get_id_nth_nearest_station(lat, lon, df_stations, i) for i in range(10)]\n",
    "nearest_station_ids.append(get_id_nth_nearest_station(lat, lon, df_stations, -1))\n",
    "for nth_nearest_station_id in nearest_station_ids:\n",
    "    rainfall_at_nearest = get_rainfall_at_station(df_rainfall, nth_nearest_station_id)\n",
    "\n",
    "    df_kang = pd.merge(df_kang, rainfall_at_nearest['rainfall'], left_index=True, right_index=True, how='left')\n",
    "    df_kang = df_kang.rename(columns={'rainfall': nth_nearest_station_id})\n",
    "df_kang.head(10)"
   ]
  },
  {
   "cell_type": "markdown",
   "metadata": {},
   "source": [
    "I think this'll be a good format to work with for checking which rainfall stations is best to use for this gauge. The index is the timestamp, so we're matching up observations with time. The river level has been selected for the max river level which occured that day since we had hourly data. Then for each of the rainfall stations of interest (close stations chosen here), we have a column of rainfall recorded at that station on that day.  "
   ]
  },
  {
   "cell_type": "code",
   "execution_count": 26,
   "metadata": {},
   "outputs": [],
   "source": [
    "def plot_correlation_at_lags(df, station_id, max_lag):\n",
    "    c = [df_kang['level'].corr(df_kang[station_id].shift(i), method='spearman') for i in range(max_lag)]\n",
    "\n",
    "    if not any([math.isnan(v) for v in c]):\n",
    "        plt.plot(range(max_lag), c)"
   ]
  },
  {
   "cell_type": "code",
   "execution_count": 27,
   "metadata": {},
   "outputs": [
    {
     "data": {
      "image/png": "[encoded data removed]",
      "text/plain": [
       "<Figure size 432x288 with 1 Axes>"
      ]
     },
     "metadata": {},
     "output_type": "display_data"
    }
   ],
   "source": [
    "for nth_nearest_station_id in nearest_station_ids:\n",
    "    plot_correlation_at_lags(df_kang, nth_nearest_station_id, 10)\n",
    "plt.title(\"Correlation between rainfall and river level\")\n",
    "plt.xlabel(\"lag (days)\")\n",
    "plt.ylabel(\"correlation\")\n",
    "plt.legend(nearest_station_ids, title='gauge id')\n",
    "plt.show()"
   ]
  },
  {
   "cell_type": "markdown",
   "metadata": {},
   "source": [
    "Here we use the Spearman's rank correlation, as opposed to the more common Pearson's correlation. This means that we are looking at the strength of any monotonic relationship rather than a strictly linear relationship. We would expect the relationship between reainfall and river level to be monotonic (more rain always -> higher river), but not necessarily linear. "
   ]
  },
  {
   "cell_type": "markdown",
   "metadata": {},
   "source": [
    "We look at how well the rainfall correlates with the river level at different gauges, and with different amounts of lag. As we would expect for such a small volume (highly responsive) river, the best indicator of today's river level is today or yesterday's rainfall. We also note that the correlation with rainfall stations which are nearby are all high relative to the one rainfall station which was chosen to be far away. \n",
    "\n",
    "In this case, the nearest rainfall station is in fact the most highly correlated, however this wouldn't necessarily be true in general. "
   ]
  },
  {
   "cell_type": "code",
   "execution_count": 28,
   "metadata": {},
   "outputs": [],
   "source": [
    "STATION_ID = 68076\n",
    "N_DAYS_LAG = 3"
   ]
  },
  {
   "cell_type": "markdown",
   "metadata": {},
   "source": [
    "## Format dataset for training"
   ]
  },
  {
   "cell_type": "markdown",
   "metadata": {},
   "source": [
    "Here we just reformat the dataframe to use the station and n_days we decided on. We'll also remove any rows which are missing data. "
   ]
  },
  {
   "cell_type": "code",
   "execution_count": 29,
   "metadata": {},
   "outputs": [
    {
     "data": {
      "text/html": [
       "<div>\n",
       "<style scoped>\n",
       "    .dataframe tbody tr th:only-of-type {\n",
       "        vertical-align: middle;\n",
       "    }\n",
       "\n",
       "    .dataframe tbody tr th {\n",
       "        vertical-align: top;\n",
       "    }\n",
       "\n",
       "    .dataframe thead th {\n",
       "        text-align: right;\n",
       "    }\n",
       "</style>\n",
       "<table border=\"1\" class=\"dataframe\">\n",
       "  <thead>\n",
       "    <tr style=\"text-align: right;\">\n",
       "      <th></th>\n",
       "      <th>level</th>\n",
       "      <th>level1</th>\n",
       "      <th>level2</th>\n",
       "      <th>lag0</th>\n",
       "      <th>lag1</th>\n",
       "      <th>lag2</th>\n",
       "      <th>lag3</th>\n",
       "    </tr>\n",
       "  </thead>\n",
       "  <tbody>\n",
       "    <tr>\n",
       "      <th>1973-01-12</th>\n",
       "      <td>0.837</td>\n",
       "      <td>0.747</td>\n",
       "      <td>0.746</td>\n",
       "      <td>0.0</td>\n",
       "      <td>3.3</td>\n",
       "      <td>0.0</td>\n",
       "      <td>3.0</td>\n",
       "    </tr>\n",
       "    <tr>\n",
       "      <th>1973-02-12</th>\n",
       "      <td>0.747</td>\n",
       "      <td>0.746</td>\n",
       "      <td>0.688</td>\n",
       "      <td>3.3</td>\n",
       "      <td>0.0</td>\n",
       "      <td>3.0</td>\n",
       "      <td>0.0</td>\n",
       "    </tr>\n",
       "    <tr>\n",
       "      <th>1973-03-12</th>\n",
       "      <td>0.746</td>\n",
       "      <td>0.688</td>\n",
       "      <td>0.861</td>\n",
       "      <td>0.0</td>\n",
       "      <td>3.0</td>\n",
       "      <td>0.0</td>\n",
       "      <td>0.0</td>\n",
       "    </tr>\n",
       "    <tr>\n",
       "      <th>1973-04-12</th>\n",
       "      <td>0.688</td>\n",
       "      <td>0.861</td>\n",
       "      <td>0.525</td>\n",
       "      <td>3.0</td>\n",
       "      <td>0.0</td>\n",
       "      <td>0.0</td>\n",
       "      <td>19.8</td>\n",
       "    </tr>\n",
       "    <tr>\n",
       "      <th>1973-05-12</th>\n",
       "      <td>0.861</td>\n",
       "      <td>0.525</td>\n",
       "      <td>0.738</td>\n",
       "      <td>0.0</td>\n",
       "      <td>0.0</td>\n",
       "      <td>19.8</td>\n",
       "      <td>1.5</td>\n",
       "    </tr>\n",
       "    <tr>\n",
       "      <th>...</th>\n",
       "      <td>...</td>\n",
       "      <td>...</td>\n",
       "      <td>...</td>\n",
       "      <td>...</td>\n",
       "      <td>...</td>\n",
       "      <td>...</td>\n",
       "      <td>...</td>\n",
       "    </tr>\n",
       "    <tr>\n",
       "      <th>2000-07-02</th>\n",
       "      <td>0.359</td>\n",
       "      <td>0.905</td>\n",
       "      <td>0.714</td>\n",
       "      <td>3.0</td>\n",
       "      <td>8.0</td>\n",
       "      <td>4.0</td>\n",
       "      <td>2.0</td>\n",
       "    </tr>\n",
       "    <tr>\n",
       "      <th>2000-07-03</th>\n",
       "      <td>0.905</td>\n",
       "      <td>0.714</td>\n",
       "      <td>0.573</td>\n",
       "      <td>8.0</td>\n",
       "      <td>4.0</td>\n",
       "      <td>2.0</td>\n",
       "      <td>1.0</td>\n",
       "    </tr>\n",
       "    <tr>\n",
       "      <th>2000-09-25</th>\n",
       "      <td>0.317</td>\n",
       "      <td>0.373</td>\n",
       "      <td>0.915</td>\n",
       "      <td>3.0</td>\n",
       "      <td>17.0</td>\n",
       "      <td>33.0</td>\n",
       "      <td>2.0</td>\n",
       "    </tr>\n",
       "    <tr>\n",
       "      <th>2000-11-06</th>\n",
       "      <td>0.377</td>\n",
       "      <td>0.491</td>\n",
       "      <td>0.391</td>\n",
       "      <td>1.0</td>\n",
       "      <td>5.0</td>\n",
       "      <td>3.0</td>\n",
       "      <td>2.0</td>\n",
       "    </tr>\n",
       "    <tr>\n",
       "      <th>2000-11-12</th>\n",
       "      <td>0.448</td>\n",
       "      <td>0.499</td>\n",
       "      <td>5.882</td>\n",
       "      <td>1.0</td>\n",
       "      <td>11.0</td>\n",
       "      <td>18.0</td>\n",
       "      <td>46.0</td>\n",
       "    </tr>\n",
       "  </tbody>\n",
       "</table>\n",
       "<p>9169 rows × 7 columns</p>\n",
       "</div>"
      ],
      "text/plain": [
       "            level  level1  level2  lag0  lag1  lag2  lag3\n",
       "1973-01-12  0.837   0.747   0.746   0.0   3.3   0.0   3.0\n",
       "1973-02-12  0.747   0.746   0.688   3.3   0.0   3.0   0.0\n",
       "1973-03-12  0.746   0.688   0.861   0.0   3.0   0.0   0.0\n",
       "1973-04-12  0.688   0.861   0.525   3.0   0.0   0.0  19.8\n",
       "1973-05-12  0.861   0.525   0.738   0.0   0.0  19.8   1.5\n",
       "...           ...     ...     ...   ...   ...   ...   ...\n",
       "2000-07-02  0.359   0.905   0.714   3.0   8.0   4.0   2.0\n",
       "2000-07-03  0.905   0.714   0.573   8.0   4.0   2.0   1.0\n",
       "2000-09-25  0.317   0.373   0.915   3.0  17.0  33.0   2.0\n",
       "2000-11-06  0.377   0.491   0.391   1.0   5.0   3.0   2.0\n",
       "2000-11-12  0.448   0.499   5.882   1.0  11.0  18.0  46.0\n",
       "\n",
       "[9169 rows x 7 columns]"
      ]
     },
     "execution_count": 29,
     "metadata": {},
     "output_type": "execute_result"
    }
   ],
   "source": [
    "input_data = df_kang[['level']].copy()\n",
    "input_data['level1'] = df_kang['level'].shift(-1).values\n",
    "input_data['level2'] = df_kang['level'].shift(-2).values\n",
    "for i in range(N_DAYS_LAG+1):\n",
    "    input_data[f\"lag{i}\"] = df_kang[STATION_ID].shift(-i).values\n",
    "input_data = input_data.dropna()\n",
    "input_data"
   ]
  },
  {
   "cell_type": "markdown",
   "metadata": {},
   "source": [
    "Some models require categorical or binary data. This defines some transformations between categorical, binary and numerical data types for the river levels. "
   ]
  },
  {
   "cell_type": "markdown",
   "metadata": {},
   "source": [
    "By the nature of the problem (predicting whether it will be paddle-able) we have some pretty intuitive and useful cut offs. We will use \"stay home\", \"low\", \"good\", \"high\", \"flood\" as our categories. To convert those levels into meters we refer to the waterways guide: http://www.waterwaysguide.org.au/map?nid=6385"
   ]
  },
  {
   "cell_type": "code",
   "execution_count": 61,
   "metadata": {},
   "outputs": [],
   "source": [
    "CATS = ['stay home', 'low', 'good', 'high', 'flood']\n",
    "CUT_OFFS = np.array([0.75, 0.9, 1.15, 1.45, float('inf')])\n",
    "\n",
    "num_to_cat_thresholds = list(zip(CUT_OFFS, CATS))\n",
    "\n",
    "mid_points = (CUT_OFFS[:-2] + CUT_OFFS[1:-1]) / 2\n",
    "MIN_LEVEL = 0.5  # TODO: make these mean of values in that category\n",
    "MAX_LEVEL = 1.7\n",
    "cat_to_num_values = {c: v for c,v in zip(CATS[1:-1], mid_points)}\n",
    "cat_to_num_values.update({CATS[0]: MIN_LEVEL, CATS[-1]: MAX_LEVEL})\n",
    "\n",
    "\n",
    "def num_to_cat(num):\n",
    "    for cut_off, cat in num_to_cat_thresholds:\n",
    "        if num<=cut_off:\n",
    "            return cat\n",
    "        \n",
    "def cat_to_num(cat):\n",
    "    return cat_to_num_values[cat]\n",
    "\n",
    "def num_to_binary(num):\n",
    "    return num>CUT_OFFS[0]\n",
    "\n",
    "def cat_to_binary(cat):\n",
    "    return cat != CATS[0]"
   ]
  },
  {
   "cell_type": "markdown",
   "metadata": {},
   "source": [
    "Lets take a quick look at what our dataset looks like once we convert it to categorical. "
   ]
  },
  {
   "cell_type": "code",
   "execution_count": 31,
   "metadata": {},
   "outputs": [
    {
     "data": {
      "text/plain": [
       "stay home    7828\n",
       "flood         487\n",
       "low           382\n",
       "good          332\n",
       "high          140\n",
       "Name: level, dtype: int64"
      ]
     },
     "execution_count": 31,
     "metadata": {},
     "output_type": "execute_result"
    }
   ],
   "source": [
    "df_cat = input_data.copy()\n",
    "df_cat['level'] = df_cat.apply(lambda x: num_to_cat(float(x.level)), axis=1)\n",
    "pd.value_counts(df_cat['level'])"
   ]
  },
  {
   "cell_type": "markdown",
   "metadata": {},
   "source": [
    "As we can see this is a highly imbalanced dataset. The vast majority of examples are \"stay home\", but in fact this is what we are least interested in knowing! Some models, eg. decision trees, effectively weight the importance of each class by its frequency in the dataset (it's just counting number of correct V incorrect). To mitigate this problem, we might want to subsample the \"stay home\" values, so that the number of examples which we use to train the tree are roughly equal across all the classes. "
   ]
  },
  {
   "cell_type": "code",
   "execution_count": 63,
   "metadata": {},
   "outputs": [
    {
     "data": {
      "text/plain": [
       "stay home    488\n",
       "flood        487\n",
       "low          382\n",
       "good         332\n",
       "high         140\n",
       "Name: level, dtype: int64"
      ]
     },
     "execution_count": 63,
     "metadata": {},
     "output_type": "execute_result"
    }
   ],
   "source": [
    "def rebalance_stay_home(dataset):\n",
    "    \"\"\"\n",
    "    Select the number of 'stay home' rows, to be equal to the next second common value. \n",
    "    \"\"\"\n",
    "    n_stay_home = sorted(dataset['level'].value_counts().values)[-2] + 1  # second largest value\n",
    "    sampled_stay_home = dataset[dataset['level']=='stay home'].sample(n_stay_home)\n",
    "\n",
    "    df_sampled = dataset[dataset['level']!=\"stay home\"]\n",
    "    df_sampled = df_sampled.append(sampled_stay_home)\n",
    "    return df_sampled\n",
    "\n",
    "df_rebalanced_cat = rebalance_stay_home(df_cat)\n",
    "df_rebalanced_cat['level'].value_counts()"
   ]
  },
  {
   "cell_type": "markdown",
   "metadata": {},
   "source": [
    "We can do a similar rebalancing with continuous data by sampling from the original dataset, and keeping a sampled point with probability inversly proportional to its frerquency in the dataset. However I'm not sure this is really what we want. It really skews the data toward the extreme cases. Maybe what we actually want is to just flatten that peak a bit. "
   ]
  },
  {
   "cell_type": "code",
   "execution_count": 75,
   "metadata": {},
   "outputs": [
    {
     "data": {
      "image/png": "[encoded data removed]",
      "text/plain": [
       "<Figure size 432x288 with 1 Axes>"
      ]
     },
     "metadata": {},
     "output_type": "display_data"
    },
    {
     "data": {
      "image/png": "[encoded data removed]",
      "text/plain": [
       "<Figure size 432x288 with 1 Axes>"
      ]
     },
     "metadata": {},
     "output_type": "display_data"
    }
   ],
   "source": [
    "upper_bound = np.quantile(input_data['level'], 0.95)\n",
    "X = input_data[input_data['level']<upper_bound]['level'].values.reshape(-1,1)\n",
    "\n",
    "# make plot with histogram and kde\n",
    "bins = np.linspace(np.min(X), np.max(X), 100)\n",
    "densities, bins, p = plt.hist(X[:, 0], bins=bins, density=False)\n",
    "plt.show()\n",
    "\n",
    "def get_weight(sample):\n",
    "    try:\n",
    "        density = densities[np.max(np.argwhere(bins<sample))]\n",
    "    except:\n",
    "        density = 1\n",
    "    return 1/density\n",
    "\n",
    "weights = input_data.apply(lambda x: get_weight(x.level), axis=1)\n",
    "weights\n",
    "\n",
    "df_rebalanced_num = input_data.sample(n=10000, replace=True, weights=weights)\n",
    "_,_,_ = plt.hist(df_rebalanced_num['level'], bins=bins, density=False)"
   ]
  },
  {
   "cell_type": "markdown",
   "metadata": {},
   "source": [
    "Now we shuffle and split into test and train sets"
   ]
  },
  {
   "cell_type": "markdown",
   "metadata": {},
   "source": [
    "### TODO: if in the future we're doing sampling with replacement, then we need to be careful to split into sets before sampling. Otherwise we could end up with cross contamination between sets. "
   ]
  },
  {
   "cell_type": "code",
   "execution_count": 65,
   "metadata": {},
   "outputs": [],
   "source": [
    "def split_dataset(dataset):\n",
    "    randomised = dataset.sample(frac=1)\n",
    "    test_20 = randomised[:len(dataset)//5]\n",
    "    train_80 = randomised[len(dataset)//5:]\n",
    "\n",
    "    all_input = randomised[['level1', 'level2', 'lag0', 'lag1', 'lag2', 'lag3']]\n",
    "    all_result = randomised['level'].values\n",
    "    train_input = train_80[['level1', 'level2', 'lag0', 'lag1', 'lag2', 'lag3']]\n",
    "    train_result = train_80['level'].values\n",
    "    test_input = test_20[['level1', 'level2', 'lag0', 'lag1', 'lag2', 'lag3']]\n",
    "    test_result = test_20['level'].values\n",
    "    \n",
    "    return {'all': all_input, 'train': train_input, 'test': test_input}, {'all': all_result, 'train': train_result, 'test': test_result}\n",
    "\n",
    "inputs, results = split_dataset(df_rebalanced_cat)"
   ]
  },
  {
   "cell_type": "markdown",
   "metadata": {},
   "source": [
    "## Define evaluation metrics"
   ]
  },
  {
   "cell_type": "markdown",
   "metadata": {},
   "source": [
    "Now we need to come up with metrics which are indicitive of desired performance."
   ]
  },
  {
   "cell_type": "markdown",
   "metadata": {},
   "source": [
    "binary metrics are used for paddleable / not paddleable. Ie. =='stay home'. This is the coarsest measure that might be useful."
   ]
  },
  {
   "cell_type": "code",
   "execution_count": 79,
   "metadata": {},
   "outputs": [],
   "source": [
    "def binary_metrics(preds, expec):  \n",
    "    precision = precision_score(y_true=expec, y_pred=preds)\n",
    "    recall = recall_score(y_true=expec, y_pred=preds)\n",
    "    f1 = 2*precision*recall / (precision + recall)\n",
    "    return precision, recall, f1"
   ]
  },
  {
   "cell_type": "markdown",
   "metadata": {},
   "source": [
    "Numeric metrics such as mean squared difference, and mean absolute difference are more difficult to interpret, but are a better measure of 'closeness'."
   ]
  },
  {
   "cell_type": "code",
   "execution_count": 67,
   "metadata": {},
   "outputs": [],
   "source": [
    "def numeric_metrics(preds, expec):\n",
    "    mean_sqr_diff = np.mean((np.array(preds) - np.array(expec))**2)\n",
    "    mean_abs_diff = np.mean(np.abs(np.array(preds) - np.array(expec)))\n",
    "    return mean_sqr_diff, mean_abs_diff"
   ]
  },
  {
   "cell_type": "markdown",
   "metadata": {},
   "source": [
    "Confusion matrix tells us where we are making errors. This is just a quick viz. "
   ]
  },
  {
   "cell_type": "code",
   "execution_count": 132,
   "metadata": {},
   "outputs": [],
   "source": [
    "def plot_cmat(model, test_input, test_result):\n",
    "    plot_confusion_matrix(model, test_input, test_result, labels=CATS, cmap=plt.cm.Blues, normalize='true')"
   ]
  },
  {
   "cell_type": "markdown",
   "metadata": {},
   "source": [
    "This will run all the available metrics on a classifier"
   ]
  },
  {
   "cell_type": "code",
   "execution_count": 69,
   "metadata": {},
   "outputs": [],
   "source": [
    "from sklearn.model_selection import cross_val_score\n",
    "def all_clas_metrics(model, inputs, results):\n",
    "    preds = model.predict(inputs['test'])\n",
    "    expected = results['test']\n",
    "\n",
    "    print(cross_val_score(model, inputs['all'], results['all']))\n",
    "    print(binary_metrics([cat_to_binary(p) for p in preds], [cat_to_binary(e) for e in expected]))\n",
    "    print(numeric_metrics([cat_to_num(p) for p in preds], [cat_to_num(e) for e in expected]))\n",
    "    \n",
    "    plot_cmat(model, inputs['test'], results['test'])\n",
    "    plt.show()"
   ]
  },
  {
   "cell_type": "markdown",
   "metadata": {},
   "source": [
    "This will run all the available metrics on a regressor"
   ]
  },
  {
   "cell_type": "code",
   "execution_count": 70,
   "metadata": {},
   "outputs": [],
   "source": [
    "def all_reg_metrics(model, inputs, results):\n",
    "    preds = model.predict(inputs['test'])\n",
    "    expected = results['test']\n",
    "\n",
    "    print(cross_val_score(model, inputs['all'], results['all']))\n",
    "    print(binary_metrics([num_to_binary(p) for p in preds], [num_to_binary(e) for e in expected]))\n",
    "    print(numeric_metrics(preds, expected))"
   ]
  },
  {
   "cell_type": "markdown",
   "metadata": {},
   "source": [
    "## Make models"
   ]
  },
  {
   "cell_type": "markdown",
   "metadata": {},
   "source": [
    "Lets start with the simplest stupidest models we can come up with. If our proper models are no better than these, then they are truly crap! They'll serve as a bit of benchmark for all these metrics. "
   ]
  },
  {
   "cell_type": "markdown",
   "metadata": {},
   "source": [
    "## R0"
   ]
  },
  {
   "cell_type": "code",
   "execution_count": 141,
   "metadata": {},
   "outputs": [
    {
     "name": "stdout",
     "output_type": "stream",
     "text": [
      "[0.26502732 0.26502732 0.26775956 0.26775956 0.26575342]\n",
      "(0.0, 0.0, nan)\n",
      "(0.49577054794520536, 0.5475342465753424)\n"
     ]
    },
    {
     "name": "stderr",
     "output_type": "stream",
     "text": [
      "/home/jemma/anaconda3/envs/river_levels/lib/python3.7/site-packages/sklearn/metrics/_classification.py:1272: UndefinedMetricWarning: Precision is ill-defined and being set to 0.0 due to no predicted samples. Use `zero_division` parameter to control this behavior.\n",
      "  _warn_prf(average, modifier, msg_start, len(result))\n",
      "/home/jemma/anaconda3/envs/river_levels/lib/python3.7/site-packages/ipykernel_launcher.py:4: RuntimeWarning: invalid value encountered in double_scalars\n",
      "  after removing the cwd from sys.path.\n"
     ]
    },
    {
     "data": {
      "image/png": "[encoded data removed]",
      "text/plain": [
       "<Figure size 432x288 with 2 Axes>"
      ]
     },
     "metadata": {},
     "output_type": "display_data"
    }
   ],
   "source": [
    "from sklearn.base import RegressorMixin, ClassifierMixin\n",
    "from scipy.stats import mode\n",
    "\n",
    "class NullClassifier(ClassifierMixin):\n",
    "    def fit(self, X=None, y=None):\n",
    "        self.y_bar_ = mode(y)[0][0]\n",
    "        self.classes_ = sorted(CATS)\n",
    "\n",
    "    def predict(self, X=None):\n",
    "        return X.shape[0] * [self.y_bar_]\n",
    "    \n",
    "    def get_params(self, deep):\n",
    "        return {}\n",
    "        \n",
    "# make a categorical dataset\n",
    "inputs_cat, results_cat = split_dataset(df_rebalanced_cat)\n",
    "\n",
    "# evaluate performance of classifier\n",
    "null_clas = NullClassifier()\n",
    "null_clas.fit(inputs_cat['train'], results_cat['train'])\n",
    "all_clas_metrics(null_clas, inputs_cat, results_cat)"
   ]
  },
  {
   "cell_type": "code",
   "execution_count": 142,
   "metadata": {},
   "outputs": [
    {
     "name": "stdout",
     "output_type": "stream",
     "text": [
      "[-0.09041505 -0.10999194 -0.09731132 -0.10000276 -0.10087599]\n",
      "(0.924, 1.0, 0.9604989604989606)\n",
      "(5.4465478505, 1.5152745)\n"
     ]
    }
   ],
   "source": [
    "class NullRegressor(RegressorMixin):\n",
    "    def fit(self, X=None, y=None):\n",
    "            # If y is numerical predict mean of y\n",
    "            self.y_med_ = np.median(y)\n",
    "            \n",
    "    def predict(self, X=None):\n",
    "        return np.ones(X.shape[0]) * self.y_med_\n",
    "    \n",
    "    def get_params(self, deep):\n",
    "        return {}\n",
    "\n",
    "# make a numeric dataset\n",
    "inputs, results = split_dataset(df_rebalanced_num.copy())\n",
    "\n",
    "# evaluate performance of regressor\n",
    "null_reg = NullRegressor()\n",
    "null_reg.fit(inputs['train'], results['train'])\n",
    "all_reg_metrics(null_reg, inputs, results)"
   ]
  },
  {
   "cell_type": "markdown",
   "metadata": {},
   "source": [
    "## R1"
   ]
  },
  {
   "cell_type": "markdown",
   "metadata": {},
   "source": [
    "Use a single rule to seperate the data. "
   ]
  },
  {
   "cell_type": "code",
   "execution_count": 72,
   "metadata": {},
   "outputs": [
    {
     "ename": "ValueError",
     "evalue": "Unknown label type: 'continuous'",
     "output_type": "error",
     "traceback": [
      "\u001b[0;31m---------------------------------------------------------------------------\u001b[0m",
      "\u001b[0;31mValueError\u001b[0m                                Traceback (most recent call last)",
      "\u001b[0;32m<ipython-input-72-e971a179f157>\u001b[0m in \u001b[0;36m<module>\u001b[0;34m\u001b[0m\n\u001b[1;32m      1\u001b[0m \u001b[0mr1\u001b[0m \u001b[0;34m=\u001b[0m \u001b[0mDecisionTreeClassifier\u001b[0m\u001b[0;34m(\u001b[0m\u001b[0mmax_depth\u001b[0m \u001b[0;34m=\u001b[0m \u001b[0;36m1\u001b[0m\u001b[0;34m)\u001b[0m\u001b[0;34m\u001b[0m\u001b[0;34m\u001b[0m\u001b[0m\n\u001b[0;32m----> 2\u001b[0;31m \u001b[0mr1\u001b[0m \u001b[0;34m=\u001b[0m \u001b[0mr1\u001b[0m\u001b[0;34m.\u001b[0m\u001b[0mfit\u001b[0m\u001b[0;34m(\u001b[0m\u001b[0minputs\u001b[0m\u001b[0;34m[\u001b[0m\u001b[0;34m'train'\u001b[0m\u001b[0;34m]\u001b[0m\u001b[0;34m,\u001b[0m \u001b[0mresults\u001b[0m\u001b[0;34m[\u001b[0m\u001b[0;34m'train'\u001b[0m\u001b[0;34m]\u001b[0m\u001b[0;34m)\u001b[0m\u001b[0;34m\u001b[0m\u001b[0;34m\u001b[0m\u001b[0m\n\u001b[0m\u001b[1;32m      3\u001b[0m \u001b[0;34m\u001b[0m\u001b[0m\n\u001b[1;32m      4\u001b[0m \u001b[0mall_clas_metrics\u001b[0m\u001b[0;34m(\u001b[0m\u001b[0mr1\u001b[0m\u001b[0;34m,\u001b[0m \u001b[0minputs\u001b[0m\u001b[0;34m,\u001b[0m \u001b[0mresults\u001b[0m\u001b[0;34m)\u001b[0m\u001b[0;34m\u001b[0m\u001b[0;34m\u001b[0m\u001b[0m\n",
      "\u001b[0;32m~/anaconda3/envs/river_levels/lib/python3.7/site-packages/sklearn/tree/_classes.py\u001b[0m in \u001b[0;36mfit\u001b[0;34m(self, X, y, sample_weight, check_input, X_idx_sorted)\u001b[0m\n\u001b[1;32m    875\u001b[0m             \u001b[0msample_weight\u001b[0m\u001b[0;34m=\u001b[0m\u001b[0msample_weight\u001b[0m\u001b[0;34m,\u001b[0m\u001b[0;34m\u001b[0m\u001b[0;34m\u001b[0m\u001b[0m\n\u001b[1;32m    876\u001b[0m             \u001b[0mcheck_input\u001b[0m\u001b[0;34m=\u001b[0m\u001b[0mcheck_input\u001b[0m\u001b[0;34m,\u001b[0m\u001b[0;34m\u001b[0m\u001b[0;34m\u001b[0m\u001b[0m\n\u001b[0;32m--> 877\u001b[0;31m             X_idx_sorted=X_idx_sorted)\n\u001b[0m\u001b[1;32m    878\u001b[0m         \u001b[0;32mreturn\u001b[0m \u001b[0mself\u001b[0m\u001b[0;34m\u001b[0m\u001b[0;34m\u001b[0m\u001b[0m\n\u001b[1;32m    879\u001b[0m \u001b[0;34m\u001b[0m\u001b[0m\n",
      "\u001b[0;32m~/anaconda3/envs/river_levels/lib/python3.7/site-packages/sklearn/tree/_classes.py\u001b[0m in \u001b[0;36mfit\u001b[0;34m(self, X, y, sample_weight, check_input, X_idx_sorted)\u001b[0m\n\u001b[1;32m    171\u001b[0m \u001b[0;34m\u001b[0m\u001b[0m\n\u001b[1;32m    172\u001b[0m         \u001b[0;32mif\u001b[0m \u001b[0mis_classification\u001b[0m\u001b[0;34m:\u001b[0m\u001b[0;34m\u001b[0m\u001b[0;34m\u001b[0m\u001b[0m\n\u001b[0;32m--> 173\u001b[0;31m             \u001b[0mcheck_classification_targets\u001b[0m\u001b[0;34m(\u001b[0m\u001b[0my\u001b[0m\u001b[0;34m)\u001b[0m\u001b[0;34m\u001b[0m\u001b[0;34m\u001b[0m\u001b[0m\n\u001b[0m\u001b[1;32m    174\u001b[0m             \u001b[0my\u001b[0m \u001b[0;34m=\u001b[0m \u001b[0mnp\u001b[0m\u001b[0;34m.\u001b[0m\u001b[0mcopy\u001b[0m\u001b[0;34m(\u001b[0m\u001b[0my\u001b[0m\u001b[0;34m)\u001b[0m\u001b[0;34m\u001b[0m\u001b[0;34m\u001b[0m\u001b[0m\n\u001b[1;32m    175\u001b[0m \u001b[0;34m\u001b[0m\u001b[0m\n",
      "\u001b[0;32m~/anaconda3/envs/river_levels/lib/python3.7/site-packages/sklearn/utils/multiclass.py\u001b[0m in \u001b[0;36mcheck_classification_targets\u001b[0;34m(y)\u001b[0m\n\u001b[1;32m    167\u001b[0m     if y_type not in ['binary', 'multiclass', 'multiclass-multioutput',\n\u001b[1;32m    168\u001b[0m                       'multilabel-indicator', 'multilabel-sequences']:\n\u001b[0;32m--> 169\u001b[0;31m         \u001b[0;32mraise\u001b[0m \u001b[0mValueError\u001b[0m\u001b[0;34m(\u001b[0m\u001b[0;34m\"Unknown label type: %r\"\u001b[0m \u001b[0;34m%\u001b[0m \u001b[0my_type\u001b[0m\u001b[0;34m)\u001b[0m\u001b[0;34m\u001b[0m\u001b[0;34m\u001b[0m\u001b[0m\n\u001b[0m\u001b[1;32m    170\u001b[0m \u001b[0;34m\u001b[0m\u001b[0m\n\u001b[1;32m    171\u001b[0m \u001b[0;34m\u001b[0m\u001b[0m\n",
      "\u001b[0;31mValueError\u001b[0m: Unknown label type: 'continuous'"
     ]
    }
   ],
   "source": [
    "r1 = DecisionTreeClassifier(max_depth = 1)\n",
    "r1 = r1.fit(inputs['train'], results['train'])\n",
    "\n",
    "all_clas_metrics(r1, inputs, results)"
   ]
  },
  {
   "cell_type": "markdown",
   "metadata": {},
   "source": [
    "## No change"
   ]
  },
  {
   "cell_type": "markdown",
   "metadata": {},
   "source": [
    "### Decision Tree(s)"
   ]
  },
  {
   "cell_type": "markdown",
   "metadata": {},
   "source": [
    "I think the most promising (easy) approach will be decision tree(s) as this should work well with non-linear relationships. A decision tree almost avoids parameterising the relationship between the variables, and instead models it as highly peicewise.\n",
    "\n",
    "The downfall of downfalll imght be that it treats every interval as independent. This means it can't extrapolate trends into regions with less data. "
   ]
  },
  {
   "cell_type": "markdown",
   "metadata": {},
   "source": [
    "Now lets train the model!"
   ]
  },
  {
   "cell_type": "code",
   "execution_count": null,
   "metadata": {},
   "outputs": [],
   "source": [
    "dt = DecisionTreeClassifier(max_features='auto')\n",
    "rf = RandomForestClassifier(max_features='auto')\n",
    "\n",
    "dt = dt.fit(inputs['train'], results['train'])\n",
    "rf = rf.fit(inputs['train'], results['train'])"
   ]
  },
  {
   "cell_type": "markdown",
   "metadata": {},
   "source": [
    "That was easy. Now evaluate it. "
   ]
  },
  {
   "cell_type": "code",
   "execution_count": null,
   "metadata": {},
   "outputs": [],
   "source": [
    "print(\"decision tree metrics\") \n",
    "all_clas_metrics(dt, inputs, results)\n",
    "    \n",
    "print(\"random forrest metrics\") \n",
    "all_clas_metrics(rf, inputs, results)"
   ]
  },
  {
   "cell_type": "markdown",
   "metadata": {},
   "source": [
    "### Mulit linear regression"
   ]
  },
  {
   "cell_type": "markdown",
   "metadata": {},
   "source": [
    "Maybe first look at rainfall V river level plot. If its highly non-linear this isn't going to work. Try to make it linear. "
   ]
  },
  {
   "cell_type": "code",
   "execution_count": null,
   "metadata": {},
   "outputs": [],
   "source": []
  }
 ],
 "metadata": {
  "kernelspec": {
   "display_name": "river_levels",
   "language": "python",
   "name": "river_levels"
  },
  "language_info": {
   "codemirror_mode": {
    "name": "ipython",
    "version": 3
   },
   "file_extension": ".py",
   "mimetype": "text/x-python",
   "name": "python",
   "nbconvert_exporter": "python",
   "pygments_lexer": "ipython3",
   "version": "3.7.7"
  }
 },
 "nbformat": 4,
 "nbformat_minor": 4
}
