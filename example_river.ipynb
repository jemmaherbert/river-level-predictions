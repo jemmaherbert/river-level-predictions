{
 "cells": [
  {
   "cell_type": "code",
   "execution_count": 1,
   "metadata": {},
   "outputs": [],
   "source": [
    "%matplotlib inline\n",
    "import matplotlib.pyplot as plt\n",
    "import seaborn; seaborn.set()"
   ]
  },
  {
   "cell_type": "code",
   "execution_count": 2,
   "metadata": {},
   "outputs": [],
   "source": [
    "import geopy.distance"
   ]
  },
  {
   "cell_type": "code",
   "execution_count": 3,
   "metadata": {},
   "outputs": [],
   "source": [
    "import re"
   ]
  },
  {
   "cell_type": "code",
   "execution_count": 4,
   "metadata": {},
   "outputs": [],
   "source": [
    "import sqlite3\n",
    "import pandas as pd"
   ]
  },
  {
   "cell_type": "code",
   "execution_count": 5,
   "metadata": {},
   "outputs": [],
   "source": [
    "from bokeh.plotting import figure, output_file, show\n",
    "from bokeh.tile_providers import CARTODBPOSITRON, get_provider\n",
    "from bokeh.models import ColumnDataSource\n",
    "from pyproj import Proj, transform"
   ]
  },
  {
   "cell_type": "markdown",
   "metadata": {},
   "source": [
    "# Pick an easy river"
   ]
  },
  {
   "cell_type": "markdown",
   "metadata": {},
   "source": [
    "For starters I'm going to look at a single river at a time, and I'll start with an easy one. I expect a river will be easy to predict if:\n",
    " - it has a small catchment area. So the nearest rainfall station is pretty much represntative of all the rain that falls in the catchment\n",
    " - it has a small volume. So the river level will go up and down quickly in response to rainfall. "
   ]
  },
  {
   "cell_type": "markdown",
   "metadata": {},
   "source": [
    "Unfortunatly I don't (currently) have data about catchment size, and river volume, but I can take a guess  based off my own background knnowledge of the region. I would guess that maybe the Kangaroo river would be a good example for this, but lets have a look at its properties to check."
   ]
  },
  {
   "cell_type": "code",
   "execution_count": 6,
   "metadata": {},
   "outputs": [],
   "source": [
    "con = sqlite3.connect('./Data/mydb.db')\n",
    "df_stations = pd.read_sql('SELECT * FROM Stations', con)\n",
    "df_gauges = pd.read_sql('SELECT * FROM Gauges', con)\n",
    "df_rainfall = pd.read_sql('SELECT * FROM Rainfall', con, index_col=['station_id', 'date'])\n",
    "df_levels = pd.read_sql('SELECT * FROM Levels', con, index_col=['gauge_id', 'date'])"
   ]
  },
  {
   "cell_type": "markdown",
   "metadata": {},
   "source": [
    "Allen river (barrington tops), Williams river (barrington tops), Bielsdown"
   ]
  },
  {
   "cell_type": "code",
   "execution_count": 7,
   "metadata": {},
   "outputs": [
    {
     "data": {
      "text/html": [
       "<div>\n",
       "<style scoped>\n",
       "    .dataframe tbody tr th:only-of-type {\n",
       "        vertical-align: middle;\n",
       "    }\n",
       "\n",
       "    .dataframe tbody tr th {\n",
       "        vertical-align: top;\n",
       "    }\n",
       "\n",
       "    .dataframe thead th {\n",
       "        text-align: right;\n",
       "    }\n",
       "</style>\n",
       "<table border=\"1\" class=\"dataframe\">\n",
       "  <thead>\n",
       "    <tr style=\"text-align: right;\">\n",
       "      <th></th>\n",
       "      <th>id</th>\n",
       "      <th>name</th>\n",
       "      <th>lat</th>\n",
       "      <th>long</th>\n",
       "      <th>elev</th>\n",
       "      <th>NearestStat</th>\n",
       "    </tr>\n",
       "  </thead>\n",
       "  <tbody>\n",
       "  </tbody>\n",
       "</table>\n",
       "</div>"
      ],
      "text/plain": [
       "Empty DataFrame\n",
       "Columns: [id, name, lat, long, elev, NearestStat]\n",
       "Index: []"
      ]
     },
     "execution_count": 7,
     "metadata": {},
     "output_type": "execute_result"
    }
   ],
   "source": [
    "df_gauges[df_gauges['name'].str.contains('Kangaroo')]"
   ]
  },
  {
   "cell_type": "code",
   "execution_count": 8,
   "metadata": {},
   "outputs": [
    {
     "data": {
      "text/html": [
       "<div>\n",
       "<style scoped>\n",
       "    .dataframe tbody tr th:only-of-type {\n",
       "        vertical-align: middle;\n",
       "    }\n",
       "\n",
       "    .dataframe tbody tr th {\n",
       "        vertical-align: top;\n",
       "    }\n",
       "\n",
       "    .dataframe thead th {\n",
       "        text-align: right;\n",
       "    }\n",
       "</style>\n",
       "<table border=\"1\" class=\"dataframe\">\n",
       "  <thead>\n",
       "    <tr style=\"text-align: right;\">\n",
       "      <th></th>\n",
       "      <th>id</th>\n",
       "      <th>name</th>\n",
       "      <th>lat</th>\n",
       "      <th>long</th>\n",
       "      <th>elev</th>\n",
       "      <th>NearestStat</th>\n",
       "    </tr>\n",
       "  </thead>\n",
       "  <tbody>\n",
       "  </tbody>\n",
       "</table>\n",
       "</div>"
      ],
      "text/plain": [
       "Empty DataFrame\n",
       "Columns: [id, name, lat, long, elev, NearestStat]\n",
       "Index: []"
      ]
     },
     "execution_count": 8,
     "metadata": {},
     "output_type": "execute_result"
    }
   ],
   "source": [
    "df_gauges[df_gauges.id==215220]"
   ]
  },
  {
   "cell_type": "markdown",
   "metadata": {},
   "source": [
    "## Fetch raw data - hourly"
   ]
  },
  {
   "cell_type": "markdown",
   "metadata": {},
   "source": [
    "hmmm, I seem to be missing data for the kangaroo river... I wonder why. For now I'll manually fetch the csv (from https://realtimedata.waternsw.com.au/) and I'll look into this problem later. "
   ]
  },
  {
   "cell_type": "code",
   "execution_count": 9,
   "metadata": {},
   "outputs": [
    {
     "name": "stderr",
     "output_type": "stream",
     "text": [
      "/home/jemma/anaconda3/envs/river_levels/lib/python3.7/site-packages/IPython/core/interactiveshell.py:3063: DtypeWarning: Columns (1,2,3,4,5,6) have mixed types.Specify dtype option on import or set low_memory=False.\n",
      "  interactivity=interactivity, compiler=compiler, result=result)\n"
     ]
    }
   ],
   "source": [
    "df_levels = pd.read_csv('./Data/riverlevels/215220.csv')\n",
    "df_levels = df_levels[['Time', '215220', 'Unnamed: 6']]\n",
    "df_levels.columns = ['datetime', 'level', 'quality']\n",
    "df_levels = df_levels.iloc[3:]\n",
    "df_levels = df_levels.dropna()\n",
    "df_levels['datetime'] = pd.to_datetime(df_levels['datetime'])\n",
    "df_levels = df_levels.set_index('datetime')\n",
    "df_levels['level'] = pd.to_numeric(df_levels['level'])"
   ]
  },
  {
   "cell_type": "code",
   "execution_count": 10,
   "metadata": {},
   "outputs": [
    {
     "data": {
      "text/plain": [
       "<matplotlib.axes._subplots.AxesSubplot at 0x7ff349963890>"
      ]
     },
     "execution_count": 10,
     "metadata": {},
     "output_type": "execute_result"
    },
    {
     "data": {
      "image/png": "[encoded data removed]",
      "text/plain": [
       "<Figure size 432x288 with 1 Axes>"
      ]
     },
     "metadata": {},
     "output_type": "display_data"
    }
   ],
   "source": [
    "df_levels.loc['1975-01-01':'1980-01-01', 'level'].plot()"
   ]
  },
  {
   "cell_type": "code",
   "execution_count": 11,
   "metadata": {},
   "outputs": [
    {
     "data": {
      "text/plain": [
       "<matplotlib.axes._subplots.AxesSubplot at 0x7ff3c8b96c50>"
      ]
     },
     "execution_count": 11,
     "metadata": {},
     "output_type": "execute_result"
    },
    {
     "data": {
      "image/png": "[encoded data removed]",
      "text/plain": [
       "<Figure size 432x288 with 1 Axes>"
      ]
     },
     "metadata": {},
     "output_type": "display_data"
    }
   ],
   "source": [
    "df_levels.loc['2015-01-01':'2015-05-01', 'level'].plot()"
   ]
  },
  {
   "cell_type": "markdown",
   "metadata": {},
   "source": [
    "The kangaroo goes up and down a loooot! Much more than I would expect other rivers. Maybe the interesting points of this are around rainfall events, rather than around rising above minimum. "
   ]
  },
  {
   "cell_type": "markdown",
   "metadata": {},
   "source": [
    "## Rainfall"
   ]
  },
  {
   "cell_type": "markdown",
   "metadata": {},
   "source": [
    "We have a lot of rainfall to stations to choose from. We want one which will tell us how much water is going into the kangaroo river. Lets see how well we can do by just looking at the nearest rainfall station."
   ]
  },
  {
   "cell_type": "markdown",
   "metadata": {},
   "source": [
    "Get the lat lon of the gauge at kangaroo. It's in the metadata in the river levels file which is culled on clean up. "
   ]
  },
  {
   "cell_type": "code",
   "execution_count": 12,
   "metadata": {},
   "outputs": [
    {
     "data": {
      "text/plain": [
       "'215220 - KANGAROO RIVER AT HAMPDEN BRIDGE Lat:-34.72798991 Long:150.52244073 Elev:70m'"
      ]
     },
     "metadata": {},
     "output_type": "display_data"
    },
    {
     "data": {
      "text/plain": [
       "(-34.72798991, 150.52244073)"
      ]
     },
     "execution_count": 12,
     "metadata": {},
     "output_type": "execute_result"
    }
   ],
   "source": [
    "metadata = pd.read_csv('./Data/riverlevels/215220.csv', low_memory=False)['Unnamed: 7'][4]\n",
    "display(metadata)\n",
    "\n",
    "lat_lon_regex = '.* Lat:(?P<lat>[0-9\\.-]*) Long:(?P<lon>[0-9\\.-]*) .*'\n",
    "lat_lon_regex_result = re.search(lat_lon_regex, metadata)\n",
    "lat = float(lat_lon_regex_result.group('lat'))\n",
    "lon = float(lat_lon_regex_result.group('lon'))\n",
    "lat, lon"
   ]
  },
  {
   "cell_type": "markdown",
   "metadata": {},
   "source": [
    "For each rainfall station, calculate its distance from our gauge. Pick the nearest."
   ]
  },
  {
   "cell_type": "code",
   "execution_count": 13,
   "metadata": {},
   "outputs": [
    {
     "data": {
      "text/html": [
       "<div>\n",
       "<style scoped>\n",
       "    .dataframe tbody tr th:only-of-type {\n",
       "        vertical-align: middle;\n",
       "    }\n",
       "\n",
       "    .dataframe tbody tr th {\n",
       "        vertical-align: top;\n",
       "    }\n",
       "\n",
       "    .dataframe thead th {\n",
       "        text-align: right;\n",
       "    }\n",
       "</style>\n",
       "<table border=\"1\" class=\"dataframe\">\n",
       "  <thead>\n",
       "    <tr style=\"text-align: right;\">\n",
       "      <th></th>\n",
       "      <th>id</th>\n",
       "      <th>name</th>\n",
       "      <th>opened_year</th>\n",
       "      <th>closed</th>\n",
       "      <th>lat</th>\n",
       "      <th>long</th>\n",
       "      <th>elev</th>\n",
       "      <th>state</th>\n",
       "      <th>d_kang</th>\n",
       "    </tr>\n",
       "  </thead>\n",
       "  <tbody>\n",
       "    <tr>\n",
       "      <th>361</th>\n",
       "      <td>68136</td>\n",
       "      <td>BOMADERRY</td>\n",
       "      <td>1903</td>\n",
       "      <td>None</td>\n",
       "      <td>-34.85</td>\n",
       "      <td>150.62</td>\n",
       "      <td>8</td>\n",
       "      <td>NSW</td>\n",
       "      <td>16.215134</td>\n",
       "    </tr>\n",
       "  </tbody>\n",
       "</table>\n",
       "</div>"
      ],
      "text/plain": [
       "        id        name  opened_year closed    lat    long  elev state  \\\n",
       "361  68136   BOMADERRY         1903   None -34.85  150.62     8   NSW   \n",
       "\n",
       "        d_kang  \n",
       "361  16.215134  "
      ]
     },
     "execution_count": 13,
     "metadata": {},
     "output_type": "execute_result"
    }
   ],
   "source": [
    "df_stations['d_kang'] = df_stations.apply(lambda x: geopy.distance.geodesic((lat, lon), (x.lat, x.long)).km, axis=1)\n",
    "nearest_station_id = df_stations.sort_values('d_kang').iloc[0].id\n",
    "df_stations[df_stations.id == nearest_station_id]"
   ]
  },
  {
   "cell_type": "markdown",
   "metadata": {},
   "source": [
    "Now lets have a quick look at the how well the rainfall seems to match up with the river levels. We would expect to see every spike in river levels associated with a spike in rainfall. "
   ]
  },
  {
   "cell_type": "code",
   "execution_count": 14,
   "metadata": {},
   "outputs": [
    {
     "data": {
      "text/plain": [
       "<matplotlib.axes._subplots.AxesSubplot at 0x7ff3c8a21350>"
      ]
     },
     "execution_count": 14,
     "metadata": {},
     "output_type": "execute_result"
    },
    {
     "data": {
      "image/png": "[encoded data removed]",
      "text/plain": [
       "<Figure size 432x288 with 1 Axes>"
      ]
     },
     "metadata": {},
     "output_type": "display_data"
    }
   ],
   "source": [
    "date_range = ('2015-01-01', '2015-03-01')\n",
    "df_levels.loc[date_range[0]:date_range[1], 'level'].plot()"
   ]
  },
  {
   "cell_type": "code",
   "execution_count": 15,
   "metadata": {},
   "outputs": [
    {
     "data": {
      "text/plain": [
       "<matplotlib.axes._subplots.AxesSubplot at 0x7ff3c86ecbd0>"
      ]
     },
     "execution_count": 15,
     "metadata": {},
     "output_type": "execute_result"
    },
    {
     "data": {
      "image/png": "[encoded data removed]",
      "text/plain": [
       "<Figure size 432x288 with 1 Axes>"
      ]
     },
     "metadata": {},
     "output_type": "display_data"
    }
   ],
   "source": [
    "rainfall_kang = df_rainfall.loc[nearest_station_id]\n",
    "rainfall_kang.loc[date_range[0]:date_range[1], 'rainfall'].plot()"
   ]
  },
  {
   "cell_type": "markdown",
   "metadata": {},
   "source": [
    "Oh dear... this rainfall station has no data for this date range. That isn't going to be very useful. How about we try the next closest rainfall station. "
   ]
  },
  {
   "cell_type": "code",
   "execution_count": 16,
   "metadata": {},
   "outputs": [
    {
     "data": {
      "text/plain": [
       "<matplotlib.axes._subplots.AxesSubplot at 0x7ff3c8562810>"
      ]
     },
     "execution_count": 16,
     "metadata": {},
     "output_type": "execute_result"
    },
    {
     "data": {
      "image/png": "[encoded data removed]",
      "text/plain": [
       "<Figure size 432x288 with 1 Axes>"
      ]
     },
     "metadata": {},
     "output_type": "display_data"
    }
   ],
   "source": [
    "next_nearest_station_id = df_stations.sort_values('d_kang').iloc[1].id\n",
    "rainfall_kang = df_rainfall.loc[next_nearest_station_id]\n",
    "rainfall_kang.loc[date_range[0]:date_range[1], 'rainfall'].plot()"
   ]
  },
  {
   "cell_type": "markdown",
   "metadata": {},
   "source": [
    "This seems pretty good... Where is it though?"
   ]
  },
  {
   "cell_type": "markdown",
   "metadata": {},
   "source": [
    "## Find a good gauge"
   ]
  },
  {
   "cell_type": "markdown",
   "metadata": {},
   "source": [
    "Where are all our stations? Lets plot the nearby rainfall stations on a map to see what our cmhoices are..."
   ]
  },
  {
   "cell_type": "code",
   "execution_count": 17,
   "metadata": {},
   "outputs": [],
   "source": [
    "def lon_lat_to_wm(lon, lat):\n",
    "    wm_x, wm_y = transform(Proj(init='epsg:4326'), Proj(init='epsg:3857'), lon, lat)  # longitude first, latitude second.\n",
    "    return wm_x, wm_y"
   ]
  },
  {
   "cell_type": "code",
   "execution_count": 18,
   "metadata": {},
   "outputs": [
    {
     "name": "stderr",
     "output_type": "stream",
     "text": [
      "/home/jemma/anaconda3/envs/river_levels/lib/python3.7/site-packages/ipykernel_launcher.py:2: SettingWithCopyWarning: \n",
      "A value is trying to be set on a copy of a slice from a DataFrame.\n",
      "Try using .loc[row_indexer,col_indexer] = value instead\n",
      "\n",
      "See the caveats in the documentation: https://pandas.pydata.org/pandas-docs/stable/user_guide/indexing.html#returning-a-view-versus-a-copy\n",
      "  \n",
      "/home/jemma/anaconda3/envs/river_levels/lib/python3.7/site-packages/ipykernel_launcher.py:3: SettingWithCopyWarning: \n",
      "A value is trying to be set on a copy of a slice from a DataFrame.\n",
      "Try using .loc[row_indexer,col_indexer] = value instead\n",
      "\n",
      "See the caveats in the documentation: https://pandas.pydata.org/pandas-docs/stable/user_guide/indexing.html#returning-a-view-versus-a-copy\n",
      "  This is separate from the ipykernel package so we can avoid doing imports until\n"
     ]
    },
    {
     "data": {
      "text/html": [
       "<div>\n",
       "<style scoped>\n",
       "    .dataframe tbody tr th:only-of-type {\n",
       "        vertical-align: middle;\n",
       "    }\n",
       "\n",
       "    .dataframe tbody tr th {\n",
       "        vertical-align: top;\n",
       "    }\n",
       "\n",
       "    .dataframe thead th {\n",
       "        text-align: right;\n",
       "    }\n",
       "</style>\n",
       "<table border=\"1\" class=\"dataframe\">\n",
       "  <thead>\n",
       "    <tr style=\"text-align: right;\">\n",
       "      <th></th>\n",
       "      <th>id</th>\n",
       "      <th>name</th>\n",
       "      <th>opened_year</th>\n",
       "      <th>closed</th>\n",
       "      <th>lat</th>\n",
       "      <th>long</th>\n",
       "      <th>elev</th>\n",
       "      <th>state</th>\n",
       "      <th>d_kang</th>\n",
       "      <th>wm_x</th>\n",
       "      <th>wm_y</th>\n",
       "    </tr>\n",
       "  </thead>\n",
       "  <tbody>\n",
       "    <tr>\n",
       "      <th>355</th>\n",
       "      <td>68003</td>\n",
       "      <td>BERRY MASONIC VILLAGE</td>\n",
       "      <td>1886</td>\n",
       "      <td>None</td>\n",
       "      <td>-34.78</td>\n",
       "      <td>150.69</td>\n",
       "      <td>10</td>\n",
       "      <td>NSW</td>\n",
       "      <td>16.390906</td>\n",
       "      <td>1.677473e+07</td>\n",
       "      <td>-4.134024e+06</td>\n",
       "    </tr>\n",
       "    <tr>\n",
       "      <th>356</th>\n",
       "      <td>68031</td>\n",
       "      <td>BURRUER (ILLAROO)</td>\n",
       "      <td>1902</td>\n",
       "      <td>None</td>\n",
       "      <td>-34.87</td>\n",
       "      <td>150.45</td>\n",
       "      <td>-9999</td>\n",
       "      <td>NSW</td>\n",
       "      <td>17.092062</td>\n",
       "      <td>1.674802e+07</td>\n",
       "      <td>-4.146229e+06</td>\n",
       "    </tr>\n",
       "    <tr>\n",
       "      <th>361</th>\n",
       "      <td>68136</td>\n",
       "      <td>BOMADERRY</td>\n",
       "      <td>1903</td>\n",
       "      <td>None</td>\n",
       "      <td>-34.85</td>\n",
       "      <td>150.62</td>\n",
       "      <td>8</td>\n",
       "      <td>NSW</td>\n",
       "      <td>16.215134</td>\n",
       "      <td>1.676694e+07</td>\n",
       "      <td>-4.143515e+06</td>\n",
       "    </tr>\n",
       "    <tr>\n",
       "      <th>364</th>\n",
       "      <td>68168</td>\n",
       "      <td>KNIGHTS HILL (CHANNEL 5A)</td>\n",
       "      <td>1964</td>\n",
       "      <td>None</td>\n",
       "      <td>-34.62</td>\n",
       "      <td>150.69</td>\n",
       "      <td>765</td>\n",
       "      <td>NSW</td>\n",
       "      <td>19.476677</td>\n",
       "      <td>1.677473e+07</td>\n",
       "      <td>-4.112360e+06</td>\n",
       "    </tr>\n",
       "  </tbody>\n",
       "</table>\n",
       "</div>"
      ],
      "text/plain": [
       "        id                        name  opened_year closed    lat    long  \\\n",
       "355  68003       BERRY MASONIC VILLAGE         1886   None -34.78  150.69   \n",
       "356  68031           BURRUER (ILLAROO)         1902   None -34.87  150.45   \n",
       "361  68136                   BOMADERRY         1903   None -34.85  150.62   \n",
       "364  68168   KNIGHTS HILL (CHANNEL 5A)         1964   None -34.62  150.69   \n",
       "\n",
       "     elev state     d_kang          wm_x          wm_y  \n",
       "355    10   NSW  16.390906  1.677473e+07 -4.134024e+06  \n",
       "356 -9999   NSW  17.092062  1.674802e+07 -4.146229e+06  \n",
       "361     8   NSW  16.215134  1.676694e+07 -4.143515e+06  \n",
       "364   765   NSW  19.476677  1.677473e+07 -4.112360e+06  "
      ]
     },
     "execution_count": 18,
     "metadata": {},
     "output_type": "execute_result"
    }
   ],
   "source": [
    "nearby_stations = df_stations[df_stations['d_kang']<20]\n",
    "nearby_stations['wm_x'] = nearby_stations.apply(lambda x: lon_lat_to_wm(x.long, x.lat)[0], axis=1)\n",
    "nearby_stations['wm_y'] = nearby_stations.apply(lambda x: lon_lat_to_wm(x.long, x.lat)[1], axis=1)\n",
    "nearby_stations"
   ]
  },
  {
   "cell_type": "code",
   "execution_count": 19,
   "metadata": {},
   "outputs": [],
   "source": [
    "output_file(\"tile.html\")\n",
    "tile_provider = get_provider(CARTODBPOSITRON)\n",
    "\n",
    "# define our points in web mercator\n",
    "wm_x, wm_y = lon_lat_to_wm(lon, lat)\n",
    "rainfall_station_location = ColumnDataSource(nearby_stations)\n",
    "\n",
    "# define the hover information\n",
    "tooltips = [\n",
    "    ('Name', '@name'),\n",
    "    ('Distance from gauge', '@d_kang')\n",
    "]\n",
    "\n",
    "# range bounds supplied in web mercator coordinates\n",
    "plot_size = 100000\n",
    "x_range = (wm_x-plot_size/2, wm_x+plot_size/2)\n",
    "y_range = (wm_y-plot_size/2, wm_y+plot_size/2)\n",
    "\n",
    "# make the plot\n",
    "p = figure(x_range=x_range, y_range=y_range, x_axis_type=\"mercator\", y_axis_type=\"mercator\", tooltips=tooltips)\n",
    "p.add_tile(tile_provider)\n",
    "p.circle(x=[wm_x], y=[wm_y], size=10, fill_color=\"red\")\n",
    "p.circle(x=\"wm_x\", y=\"wm_y\", size=15, fill_color=\"blue\", fill_alpha=0.8, source=rainfall_station_location)\n",
    "\n",
    "show(p)"
   ]
  },
  {
   "cell_type": "markdown",
   "metadata": {},
   "source": [
    "OK, so none of the stations are particularly close, and none are on the plateu. So now we're choosing betweeen bad options. "
   ]
  },
  {
   "cell_type": "markdown",
   "metadata": {},
   "source": [
    "## Choose station based off correlation"
   ]
  },
  {
   "cell_type": "markdown",
   "metadata": {},
   "source": [
    "To choose between the nearby stations, lets look at how well the rainfall levels correlate with the river level. I expect that the relationship will between rainfall and river level will be highly non-linear and incorporate some time delay. So to simplify this correlation, lets just look at how well 'its rained in the last 3 days' correlates with 'river is now above its median height'. So we don't care about the exact relationship between how much the river goes up with different amounts of rainfall (that will be a job for the actual model), what we're looking at here is whether this rainfall gauge is indicative of rainfall in the river's catchment. "
   ]
  },
  {
   "cell_type": "markdown",
   "metadata": {},
   "source": [
    "For starters, lets simplify the river level data. We want to extract whether or not the river was above its median on each day."
   ]
  },
  {
   "cell_type": "code",
   "execution_count": 34,
   "metadata": {},
   "outputs": [],
   "source": [
    "median_level = df_levels.level.median()"
   ]
  },
  {
   "cell_type": "markdown",
   "metadata": {},
   "source": [
    "How often is the river above median? This approach is based off the assumption that its relatively rare. "
   ]
  },
  {
   "cell_type": "code",
   "execution_count": 32,
   "metadata": {},
   "outputs": [],
   "source": [
    "df_levels_max_daily = df_levels.groupby(df_levels.index.date).max()"
   ]
  },
  {
   "cell_type": "code",
   "execution_count": 43,
   "metadata": {},
   "outputs": [
    {
     "data": {
      "text/plain": [
       "0.5270139309509388"
      ]
     },
     "execution_count": 43,
     "metadata": {},
     "output_type": "execute_result"
    }
   ],
   "source": [
    "n_days = len(df_levels_max_daily)\n",
    "n_days_above_median = len(df_levels_max_daily[df_levels_max_daily['level']>median_level])\n",
    "n_days_above_median / n_days"
   ]
  },
  {
   "cell_type": "markdown",
   "metadata": {},
   "source": [
    "And how often does it rain?"
   ]
  },
  {
   "cell_type": "code",
   "execution_count": 49,
   "metadata": {},
   "outputs": [
    {
     "data": {
      "text/plain": [
       "0.27114177195566236"
      ]
     },
     "execution_count": 49,
     "metadata": {},
     "output_type": "execute_result"
    }
   ],
   "source": [
    "rainfall_at_nearest = df_rainfall.loc[nearest_station_id]\n",
    "n_days = len(rainfall_at_nearest)\n",
    "n_rainy_days = len(rainfall_at_nearest[rainfall_at_nearest.rainfall>0])\n",
    "n_rainy_days/n_days"
   ]
  }
 ],
 "metadata": {
  "kernelspec": {
   "display_name": "river_levels",
   "language": "python",
   "name": "river_levels"
  },
  "language_info": {
   "codemirror_mode": {
    "name": "ipython",
    "version": 3
   },
   "file_extension": ".py",
   "mimetype": "text/x-python",
   "name": "python",
   "nbconvert_exporter": "python",
   "pygments_lexer": "ipython3",
   "version": "3.7.7"
  }
 },
 "nbformat": 4,
 "nbformat_minor": 4
}
