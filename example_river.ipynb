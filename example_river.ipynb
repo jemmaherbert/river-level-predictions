{
 "cells": [
  {
   "cell_type": "code",
   "execution_count": 1,
   "metadata": {},
   "outputs": [],
   "source": [
    "%matplotlib inline\n",
    "import matplotlib.pyplot as plt\n",
    "import seaborn; seaborn.set()"
   ]
  },
  {
   "cell_type": "code",
   "execution_count": 2,
   "metadata": {},
   "outputs": [],
   "source": [
    "import geopy.distance"
   ]
  },
  {
   "cell_type": "code",
   "execution_count": 3,
   "metadata": {},
   "outputs": [],
   "source": [
    "import re"
   ]
  },
  {
   "cell_type": "code",
   "execution_count": 4,
   "metadata": {},
   "outputs": [],
   "source": [
    "import sqlite3\n",
    "import pandas as pd"
   ]
  },
  {
   "cell_type": "code",
   "execution_count": 5,
   "metadata": {},
   "outputs": [],
   "source": [
    "from bokeh.plotting import figure, output_file, show\n",
    "from bokeh.tile_providers import CARTODBPOSITRON, get_provider\n",
    "from bokeh.models import ColumnDataSource\n",
    "from pyproj import Proj, transform"
   ]
  },
  {
   "cell_type": "markdown",
   "metadata": {},
   "source": [
    "# Pick an easy river"
   ]
  },
  {
   "cell_type": "markdown",
   "metadata": {},
   "source": [
    "For starters I'm going to look at a single river at a time, and I'll start with an easy one. I expect a river will be easy to predict if:\n",
    " - it has a small catchment area. So the nearest rainfall station is pretty much represntative of all the rain that falls in the catchment\n",
    " - it has a small volume. So the river level will go up and down quickly in response to rainfall. "
   ]
  },
  {
   "cell_type": "markdown",
   "metadata": {},
   "source": [
    "Unfortunatly I don't (currently) have data about catchment size, and river volume, but I can take a guess  based off my own background knnowledge of the region. I would guess that maybe the Kangaroo river would be a good example for this, but lets have a look at its properties to check."
   ]
  },
  {
   "cell_type": "code",
   "execution_count": 6,
   "metadata": {},
   "outputs": [],
   "source": [
    "con = sqlite3.connect('./Data/mydb.db')\n",
    "df_stations = pd.read_sql('SELECT * FROM Stations', con)\n",
    "df_gauges = pd.read_sql('SELECT * FROM Gauges', con)\n",
    "df_rainfall = pd.read_sql('SELECT * FROM Rainfall', con, index_col=['station_id', 'date'])\n",
    "df_levels = pd.read_sql('SELECT * FROM Levels', con, index_col=['gauge_id', 'date'])"
   ]
  },
  {
   "cell_type": "markdown",
   "metadata": {},
   "source": [
    "Allen river (barrington tops), Williams river (barrington tops), Bielsdown"
   ]
  },
  {
   "cell_type": "code",
   "execution_count": 7,
   "metadata": {},
   "outputs": [
    {
     "data": {
      "text/html": [
       "<div>\n",
       "<style scoped>\n",
       "    .dataframe tbody tr th:only-of-type {\n",
       "        vertical-align: middle;\n",
       "    }\n",
       "\n",
       "    .dataframe tbody tr th {\n",
       "        vertical-align: top;\n",
       "    }\n",
       "\n",
       "    .dataframe thead th {\n",
       "        text-align: right;\n",
       "    }\n",
       "</style>\n",
       "<table border=\"1\" class=\"dataframe\">\n",
       "  <thead>\n",
       "    <tr style=\"text-align: right;\">\n",
       "      <th></th>\n",
       "      <th>id</th>\n",
       "      <th>name</th>\n",
       "      <th>lat</th>\n",
       "      <th>long</th>\n",
       "      <th>elev</th>\n",
       "      <th>NearestStat</th>\n",
       "    </tr>\n",
       "  </thead>\n",
       "  <tbody>\n",
       "  </tbody>\n",
       "</table>\n",
       "</div>"
      ],
      "text/plain": [
       "Empty DataFrame\n",
       "Columns: [id, name, lat, long, elev, NearestStat]\n",
       "Index: []"
      ]
     },
     "execution_count": 7,
     "metadata": {},
     "output_type": "execute_result"
    }
   ],
   "source": [
    "df_gauges[df_gauges['name'].str.contains('Kangaroo')]"
   ]
  },
  {
   "cell_type": "code",
   "execution_count": 8,
   "metadata": {},
   "outputs": [
    {
     "data": {
      "text/html": [
       "<div>\n",
       "<style scoped>\n",
       "    .dataframe tbody tr th:only-of-type {\n",
       "        vertical-align: middle;\n",
       "    }\n",
       "\n",
       "    .dataframe tbody tr th {\n",
       "        vertical-align: top;\n",
       "    }\n",
       "\n",
       "    .dataframe thead th {\n",
       "        text-align: right;\n",
       "    }\n",
       "</style>\n",
       "<table border=\"1\" class=\"dataframe\">\n",
       "  <thead>\n",
       "    <tr style=\"text-align: right;\">\n",
       "      <th></th>\n",
       "      <th>id</th>\n",
       "      <th>name</th>\n",
       "      <th>lat</th>\n",
       "      <th>long</th>\n",
       "      <th>elev</th>\n",
       "      <th>NearestStat</th>\n",
       "    </tr>\n",
       "  </thead>\n",
       "  <tbody>\n",
       "  </tbody>\n",
       "</table>\n",
       "</div>"
      ],
      "text/plain": [
       "Empty DataFrame\n",
       "Columns: [id, name, lat, long, elev, NearestStat]\n",
       "Index: []"
      ]
     },
     "execution_count": 8,
     "metadata": {},
     "output_type": "execute_result"
    }
   ],
   "source": [
    "df_gauges[df_gauges.id==215220]"
   ]
  },
  {
   "cell_type": "markdown",
   "metadata": {},
   "source": [
    "## Fetch raw data - hourly"
   ]
  },
  {
   "cell_type": "markdown",
   "metadata": {},
   "source": [
    "hmmm, I seem to be missing data for the kangaroo river... I wonder why. For now I'll manually fetch the csv (from https://realtimedata.waternsw.com.au/) and I'll look into this problem later. "
   ]
  },
  {
   "cell_type": "code",
   "execution_count": 9,
   "metadata": {},
   "outputs": [
    {
     "name": "stderr",
     "output_type": "stream",
     "text": [
      "/home/jemma/anaconda3/envs/river_levels/lib/python3.7/site-packages/IPython/core/interactiveshell.py:3063: DtypeWarning: Columns (1,2,3,4,5,6) have mixed types.Specify dtype option on import or set low_memory=False.\n",
      "  interactivity=interactivity, compiler=compiler, result=result)\n"
     ]
    }
   ],
   "source": [
    "df_levels = pd.read_csv('./Data/riverlevels/215220.csv')\n",
    "df_levels = df_levels[['Time', '215220', 'Unnamed: 6']]\n",
    "df_levels.columns = ['datetime', 'level', 'quality']\n",
    "df_levels = df_levels.iloc[3:]\n",
    "df_levels = df_levels.dropna()\n",
    "df_levels['datetime'] = pd.to_datetime(df_levels['datetime'])\n",
    "df_levels = df_levels.set_index('datetime')\n",
    "df_levels['level'] = pd.to_numeric(df_levels['level'])"
   ]
  },
  {
   "cell_type": "code",
   "execution_count": 10,
   "metadata": {},
   "outputs": [
    {
     "data": {
      "text/plain": [
       "<matplotlib.axes._subplots.AxesSubplot at 0x7fd3ae432290>"
      ]
     },
     "execution_count": 10,
     "metadata": {},
     "output_type": "execute_result"
    },
    {
     "data": {
      "image/png": "[encoded data removed]",
      "text/plain": [
       "<Figure size 432x288 with 1 Axes>"
      ]
     },
     "metadata": {},
     "output_type": "display_data"
    }
   ],
   "source": [
    "df_levels.loc['1975-01-01':'1980-01-01', 'level'].plot()"
   ]
  },
  {
   "cell_type": "code",
   "execution_count": 11,
   "metadata": {},
   "outputs": [
    {
     "data": {
      "text/plain": [
       "<matplotlib.axes._subplots.AxesSubplot at 0x7fd3aea08cd0>"
      ]
     },
     "execution_count": 11,
     "metadata": {},
     "output_type": "execute_result"
    },
    {
     "data": {
      "image/png": "[encoded data removed]",
      "text/plain": [
       "<Figure size 432x288 with 1 Axes>"
      ]
     },
     "metadata": {},
     "output_type": "display_data"
    }
   ],
   "source": [
    "df_levels.loc['2015-01-01':'2015-05-01', 'level'].plot()"
   ]
  },
  {
   "cell_type": "markdown",
   "metadata": {},
   "source": [
    "The kangaroo goes up and down a loooot! Much more than I would expect other rivers. Maybe the interesting points of this are around rainfall events, rather than around rising above minimum. "
   ]
  },
  {
   "cell_type": "markdown",
   "metadata": {},
   "source": [
    "## Rainfall"
   ]
  },
  {
   "cell_type": "markdown",
   "metadata": {},
   "source": [
    "We have a lot of rainfall to stations to choose from. We want one which will tell us how much water is going into the kangaroo river. Lets see how well we can do by just looking at the nearest rainfall station."
   ]
  },
  {
   "cell_type": "markdown",
   "metadata": {},
   "source": [
    "Get the lat lon of the gauge at kangaroo. It's in the metadata in the river levels file which is culled on clean up. "
   ]
  },
  {
   "cell_type": "code",
   "execution_count": 12,
   "metadata": {},
   "outputs": [
    {
     "data": {
      "text/plain": [
       "'215220 - KANGAROO RIVER AT HAMPDEN BRIDGE Lat:-34.72798991 Long:150.52244073 Elev:70m'"
      ]
     },
     "metadata": {},
     "output_type": "display_data"
    },
    {
     "data": {
      "text/plain": [
       "(-34.72798991, 150.52244073)"
      ]
     },
     "execution_count": 12,
     "metadata": {},
     "output_type": "execute_result"
    }
   ],
   "source": [
    "metadata = pd.read_csv('./Data/riverlevels/215220.csv', low_memory=False)['Unnamed: 7'][4]\n",
    "display(metadata)\n",
    "\n",
    "lat_lon_regex = '.* Lat:(?P<lat>[0-9\\.-]*) Long:(?P<lon>[0-9\\.-]*) .*'\n",
    "lat_lon_regex_result = re.search(lat_lon_regex, metadata)\n",
    "lat = float(lat_lon_regex_result.group('lat'))\n",
    "lon = float(lat_lon_regex_result.group('lon'))\n",
    "lat, lon"
   ]
  },
  {
   "cell_type": "markdown",
   "metadata": {},
   "source": [
    "For each rainfall station, calculate its distance from our gauge. Pick the nearest."
   ]
  },
  {
   "cell_type": "code",
   "execution_count": 13,
   "metadata": {},
   "outputs": [
    {
     "data": {
      "text/html": [
       "<div>\n",
       "<style scoped>\n",
       "    .dataframe tbody tr th:only-of-type {\n",
       "        vertical-align: middle;\n",
       "    }\n",
       "\n",
       "    .dataframe tbody tr th {\n",
       "        vertical-align: top;\n",
       "    }\n",
       "\n",
       "    .dataframe thead th {\n",
       "        text-align: right;\n",
       "    }\n",
       "</style>\n",
       "<table border=\"1\" class=\"dataframe\">\n",
       "  <thead>\n",
       "    <tr style=\"text-align: right;\">\n",
       "      <th></th>\n",
       "      <th>id</th>\n",
       "      <th>name</th>\n",
       "      <th>opened_year</th>\n",
       "      <th>closed</th>\n",
       "      <th>lat</th>\n",
       "      <th>long</th>\n",
       "      <th>elev</th>\n",
       "      <th>state</th>\n",
       "      <th>dist</th>\n",
       "    </tr>\n",
       "  </thead>\n",
       "  <tbody>\n",
       "    <tr>\n",
       "      <th>361</th>\n",
       "      <td>68136</td>\n",
       "      <td>BOMADERRY</td>\n",
       "      <td>1903</td>\n",
       "      <td>None</td>\n",
       "      <td>-34.85</td>\n",
       "      <td>150.62</td>\n",
       "      <td>8</td>\n",
       "      <td>NSW</td>\n",
       "      <td>16.215134</td>\n",
       "    </tr>\n",
       "  </tbody>\n",
       "</table>\n",
       "</div>"
      ],
      "text/plain": [
       "        id        name  opened_year closed    lat    long  elev state  \\\n",
       "361  68136   BOMADERRY         1903   None -34.85  150.62     8   NSW   \n",
       "\n",
       "          dist  \n",
       "361  16.215134  "
      ]
     },
     "execution_count": 13,
     "metadata": {},
     "output_type": "execute_result"
    }
   ],
   "source": [
    "def add_distances(lat, lon, df_stations):\n",
    "    df_stations['dist'] = df_stations.apply(lambda x: geopy.distance.geodesic((lat, lon), (x.lat, x.long)).km, axis=1)\n",
    "    return df_stations\n",
    "\n",
    "def get_id_nth_nearest_station(lat, lon, df_stations, n):\n",
    "    df_stations = add_distances(lat, lon, df_stations)\n",
    "    return df_stations.sort_values('dist').iloc[n].id\n",
    "\n",
    "nearest_station_id = get_id_nth_nearest_station(lat, lon, df_stations, 0)\n",
    "df_stations[df_stations.id == nearest_station_id]"
   ]
  },
  {
   "cell_type": "markdown",
   "metadata": {},
   "source": [
    "Now lets have a quick look at the how well the rainfall seems to match up with the river levels. We would expect to see every spike in river levels associated with a spike in rainfall. "
   ]
  },
  {
   "cell_type": "code",
   "execution_count": 14,
   "metadata": {},
   "outputs": [
    {
     "data": {
      "text/plain": [
       "<matplotlib.axes._subplots.AxesSubplot at 0x7fd3ae48d490>"
      ]
     },
     "execution_count": 14,
     "metadata": {},
     "output_type": "execute_result"
    },
    {
     "data": {
      "image/png": "[encoded data removed]",
      "text/plain": [
       "<Figure size 432x288 with 1 Axes>"
      ]
     },
     "metadata": {},
     "output_type": "display_data"
    }
   ],
   "source": [
    "date_range = ('2015-01-01', '2015-03-01')\n",
    "df_levels.loc[date_range[0]:date_range[1], 'level'].plot()"
   ]
  },
  {
   "cell_type": "code",
   "execution_count": 15,
   "metadata": {},
   "outputs": [
    {
     "data": {
      "text/plain": [
       "<matplotlib.axes._subplots.AxesSubplot at 0x7fd3aea58d10>"
      ]
     },
     "execution_count": 15,
     "metadata": {},
     "output_type": "execute_result"
    },
    {
     "data": {
      "image/png": "[encoded data removed]",
      "text/plain": [
       "<Figure size 432x288 with 1 Axes>"
      ]
     },
     "metadata": {},
     "output_type": "display_data"
    }
   ],
   "source": [
    "rainfall_kang = df_rainfall.loc[nearest_station_id]\n",
    "rainfall_kang.loc[date_range[0]:date_range[1], 'rainfall'].plot()"
   ]
  },
  {
   "cell_type": "markdown",
   "metadata": {},
   "source": [
    "Oh dear... this rainfall station has no data for this date range. That isn't going to be very useful. How about we try the next closest rainfall station. "
   ]
  },
  {
   "cell_type": "code",
   "execution_count": 16,
   "metadata": {},
   "outputs": [
    {
     "data": {
      "text/plain": [
       "<matplotlib.axes._subplots.AxesSubplot at 0x7fd3aea6ed90>"
      ]
     },
     "execution_count": 16,
     "metadata": {},
     "output_type": "execute_result"
    },
    {
     "data": {
      "image/png": "[encoded data removed]",
      "text/plain": [
       "<Figure size 432x288 with 1 Axes>"
      ]
     },
     "metadata": {},
     "output_type": "display_data"
    }
   ],
   "source": [
    "next_nearest_station_id = get_id_nth_nearest_station(lat, lon, df_stations, 1)\n",
    "rainfall_kang = df_rainfall.loc[next_nearest_station_id]\n",
    "rainfall_kang.loc[date_range[0]:date_range[1], 'rainfall'].plot()"
   ]
  },
  {
   "cell_type": "markdown",
   "metadata": {},
   "source": [
    "This seems pretty good... Where is it though?"
   ]
  },
  {
   "cell_type": "markdown",
   "metadata": {},
   "source": [
    "## Find a good gauge"
   ]
  },
  {
   "cell_type": "markdown",
   "metadata": {},
   "source": [
    "Where are all our stations? Lets plot the nearby rainfall stations on a map to see what our cmhoices are..."
   ]
  },
  {
   "cell_type": "code",
   "execution_count": 17,
   "metadata": {},
   "outputs": [],
   "source": [
    "def lon_lat_to_wm(lon, lat):\n",
    "    wm_x, wm_y = transform(Proj(init='epsg:4326'), Proj(init='epsg:3857'), lon, lat)  # longitude first, latitude second.\n",
    "    return wm_x, wm_y"
   ]
  },
  {
   "cell_type": "code",
   "execution_count": 18,
   "metadata": {},
   "outputs": [
    {
     "data": {
      "text/html": [
       "<div>\n",
       "<style scoped>\n",
       "    .dataframe tbody tr th:only-of-type {\n",
       "        vertical-align: middle;\n",
       "    }\n",
       "\n",
       "    .dataframe tbody tr th {\n",
       "        vertical-align: top;\n",
       "    }\n",
       "\n",
       "    .dataframe thead th {\n",
       "        text-align: right;\n",
       "    }\n",
       "</style>\n",
       "<table border=\"1\" class=\"dataframe\">\n",
       "  <thead>\n",
       "    <tr style=\"text-align: right;\">\n",
       "      <th></th>\n",
       "      <th>id</th>\n",
       "      <th>name</th>\n",
       "      <th>opened_year</th>\n",
       "      <th>closed</th>\n",
       "      <th>lat</th>\n",
       "      <th>long</th>\n",
       "      <th>elev</th>\n",
       "      <th>state</th>\n",
       "      <th>dist</th>\n",
       "      <th>wm_x</th>\n",
       "      <th>wm_y</th>\n",
       "    </tr>\n",
       "  </thead>\n",
       "  <tbody>\n",
       "    <tr>\n",
       "      <th>0</th>\n",
       "      <td>46024</td>\n",
       "      <td>WILCANNIA (MURTEE)</td>\n",
       "      <td>1923</td>\n",
       "      <td>None</td>\n",
       "      <td>-31.58</td>\n",
       "      <td>143.49</td>\n",
       "      <td>60</td>\n",
       "      <td>NSW</td>\n",
       "      <td>742.900632</td>\n",
       "      <td>1.597323e+07</td>\n",
       "      <td>-3.708304e+06</td>\n",
       "    </tr>\n",
       "    <tr>\n",
       "      <th>1</th>\n",
       "      <td>47019</td>\n",
       "      <td>MENINDEE POST OFFICE</td>\n",
       "      <td>1876</td>\n",
       "      <td>None</td>\n",
       "      <td>-32.39</td>\n",
       "      <td>142.42</td>\n",
       "      <td>61</td>\n",
       "      <td>NSW</td>\n",
       "      <td>795.526485</td>\n",
       "      <td>1.585412e+07</td>\n",
       "      <td>-3.814614e+06</td>\n",
       "    </tr>\n",
       "    <tr>\n",
       "      <th>2</th>\n",
       "      <td>47051</td>\n",
       "      <td>TANGRAMBALLY</td>\n",
       "      <td>1952</td>\n",
       "      <td>None</td>\n",
       "      <td>-34.50</td>\n",
       "      <td>143.67</td>\n",
       "      <td>-9999</td>\n",
       "      <td>NSW</td>\n",
       "      <td>628.856981</td>\n",
       "      <td>1.599327e+07</td>\n",
       "      <td>-4.096139e+06</td>\n",
       "    </tr>\n",
       "    <tr>\n",
       "      <th>3</th>\n",
       "      <td>47100</td>\n",
       "      <td>WENTWORTH LOCK 10 (MURRAY RIVER)</td>\n",
       "      <td>1872</td>\n",
       "      <td>None</td>\n",
       "      <td>-34.11</td>\n",
       "      <td>141.90</td>\n",
       "      <td>-9999</td>\n",
       "      <td>NSW</td>\n",
       "      <td>795.361253</td>\n",
       "      <td>1.579624e+07</td>\n",
       "      <td>-4.043582e+06</td>\n",
       "    </tr>\n",
       "    <tr>\n",
       "      <th>4</th>\n",
       "      <td>48009</td>\n",
       "      <td>CARINDA (BOOROOMA)</td>\n",
       "      <td>1881</td>\n",
       "      <td>None</td>\n",
       "      <td>-30.10</td>\n",
       "      <td>147.46</td>\n",
       "      <td>122</td>\n",
       "      <td>NSW</td>\n",
       "      <td>588.449269</td>\n",
       "      <td>1.641517e+07</td>\n",
       "      <td>-3.516410e+06</td>\n",
       "    </tr>\n",
       "    <tr>\n",
       "      <th>...</th>\n",
       "      <td>...</td>\n",
       "      <td>...</td>\n",
       "      <td>...</td>\n",
       "      <td>...</td>\n",
       "      <td>...</td>\n",
       "      <td>...</td>\n",
       "      <td>...</td>\n",
       "      <td>...</td>\n",
       "      <td>...</td>\n",
       "      <td>...</td>\n",
       "      <td>...</td>\n",
       "    </tr>\n",
       "    <tr>\n",
       "      <th>499</th>\n",
       "      <td>75128</td>\n",
       "      <td>WHEALBAH</td>\n",
       "      <td>1900</td>\n",
       "      <td>None</td>\n",
       "      <td>-33.72</td>\n",
       "      <td>145.30</td>\n",
       "      <td>-9999</td>\n",
       "      <td>NSW</td>\n",
       "      <td>493.957843</td>\n",
       "      <td>1.617472e+07</td>\n",
       "      <td>-3.991267e+06</td>\n",
       "    </tr>\n",
       "    <tr>\n",
       "      <th>500</th>\n",
       "      <td>75137</td>\n",
       "      <td>HAY (PEVENSEY)</td>\n",
       "      <td>1967</td>\n",
       "      <td>None</td>\n",
       "      <td>-34.56</td>\n",
       "      <td>144.64</td>\n",
       "      <td>85</td>\n",
       "      <td>NSW</td>\n",
       "      <td>539.557507</td>\n",
       "      <td>1.610125e+07</td>\n",
       "      <td>-4.104247e+06</td>\n",
       "    </tr>\n",
       "    <tr>\n",
       "      <th>501</th>\n",
       "      <td>75157</td>\n",
       "      <td>THE CUBAS</td>\n",
       "      <td>1887</td>\n",
       "      <td>None</td>\n",
       "      <td>-33.87</td>\n",
       "      <td>144.88</td>\n",
       "      <td>94</td>\n",
       "      <td>NSW</td>\n",
       "      <td>528.012406</td>\n",
       "      <td>1.612797e+07</td>\n",
       "      <td>-4.011360e+06</td>\n",
       "    </tr>\n",
       "    <tr>\n",
       "      <th>502</th>\n",
       "      <td>75163</td>\n",
       "      <td>HILLSTON  ( ALDINGA)</td>\n",
       "      <td>1971</td>\n",
       "      <td>None</td>\n",
       "      <td>-33.35</td>\n",
       "      <td>145.87</td>\n",
       "      <td>135</td>\n",
       "      <td>NSW</td>\n",
       "      <td>455.941177</td>\n",
       "      <td>1.623817e+07</td>\n",
       "      <td>-3.941853e+06</td>\n",
       "    </tr>\n",
       "    <tr>\n",
       "      <th>503</th>\n",
       "      <td>75166</td>\n",
       "      <td>DARLINGTON POINT (COUNCIL DEPOT)</td>\n",
       "      <td>1909</td>\n",
       "      <td>None</td>\n",
       "      <td>-34.57</td>\n",
       "      <td>146.00</td>\n",
       "      <td>125</td>\n",
       "      <td>NSW</td>\n",
       "      <td>414.935727</td>\n",
       "      <td>1.625265e+07</td>\n",
       "      <td>-4.105598e+06</td>\n",
       "    </tr>\n",
       "  </tbody>\n",
       "</table>\n",
       "<p>504 rows × 11 columns</p>\n",
       "</div>"
      ],
      "text/plain": [
       "        id                               name  opened_year closed    lat  \\\n",
       "0    46024                 WILCANNIA (MURTEE)         1923   None -31.58   \n",
       "1    47019               MENINDEE POST OFFICE         1876   None -32.39   \n",
       "2    47051                       TANGRAMBALLY         1952   None -34.50   \n",
       "3    47100   WENTWORTH LOCK 10 (MURRAY RIVER)         1872   None -34.11   \n",
       "4    48009                 CARINDA (BOOROOMA)         1881   None -30.10   \n",
       "..     ...                                ...          ...    ...    ...   \n",
       "499  75128                           WHEALBAH         1900   None -33.72   \n",
       "500  75137                     HAY (PEVENSEY)         1967   None -34.56   \n",
       "501  75157                          THE CUBAS         1887   None -33.87   \n",
       "502  75163               HILLSTON  ( ALDINGA)         1971   None -33.35   \n",
       "503  75166   DARLINGTON POINT (COUNCIL DEPOT)         1909   None -34.57   \n",
       "\n",
       "       long  elev state        dist          wm_x          wm_y  \n",
       "0    143.49    60   NSW  742.900632  1.597323e+07 -3.708304e+06  \n",
       "1    142.42    61   NSW  795.526485  1.585412e+07 -3.814614e+06  \n",
       "2    143.67 -9999   NSW  628.856981  1.599327e+07 -4.096139e+06  \n",
       "3    141.90 -9999   NSW  795.361253  1.579624e+07 -4.043582e+06  \n",
       "4    147.46   122   NSW  588.449269  1.641517e+07 -3.516410e+06  \n",
       "..      ...   ...   ...         ...           ...           ...  \n",
       "499  145.30 -9999   NSW  493.957843  1.617472e+07 -3.991267e+06  \n",
       "500  144.64    85   NSW  539.557507  1.610125e+07 -4.104247e+06  \n",
       "501  144.88    94   NSW  528.012406  1.612797e+07 -4.011360e+06  \n",
       "502  145.87   135   NSW  455.941177  1.623817e+07 -3.941853e+06  \n",
       "503  146.00   125   NSW  414.935727  1.625265e+07 -4.105598e+06  \n",
       "\n",
       "[504 rows x 11 columns]"
      ]
     },
     "execution_count": 18,
     "metadata": {},
     "output_type": "execute_result"
    }
   ],
   "source": [
    "station_distances = add_distances(lat, lon, df_stations)\n",
    "station_distances['wm_x'] = station_distances.apply(lambda x: lon_lat_to_wm(x.long, x.lat)[0], axis=1)\n",
    "station_distances['wm_y'] = station_distances.apply(lambda x: lon_lat_to_wm(x.long, x.lat)[1], axis=1)\n",
    "station_distances"
   ]
  },
  {
   "cell_type": "code",
   "execution_count": 19,
   "metadata": {},
   "outputs": [],
   "source": [
    "output_file(\"tile.html\")\n",
    "tile_provider = get_provider(CARTODBPOSITRON)\n",
    "\n",
    "# define our points in web mercator\n",
    "wm_x, wm_y = lon_lat_to_wm(lon, lat)\n",
    "rainfall_station_location = ColumnDataSource(station_distances)\n",
    "\n",
    "# define the hover information\n",
    "tooltips = [\n",
    "    ('Name', '@name'),\n",
    "    ('Distance from gauge', '@d_kang')\n",
    "]\n",
    "\n",
    "# range bounds supplied in web mercator coordinates\n",
    "plot_size = 100000\n",
    "x_range = (wm_x-plot_size/2, wm_x+plot_size/2)\n",
    "y_range = (wm_y-plot_size/2, wm_y+plot_size/2)\n",
    "\n",
    "# make the plot\n",
    "p = figure(x_range=x_range, y_range=y_range, x_axis_type=\"mercator\", y_axis_type=\"mercator\", tooltips=tooltips)\n",
    "p.add_tile(tile_provider)\n",
    "p.circle(x=[wm_x], y=[wm_y], size=10, fill_color=\"red\")\n",
    "p.circle(x=\"wm_x\", y=\"wm_y\", size=15, fill_color=\"blue\", fill_alpha=0.8, source=rainfall_station_location)\n",
    "\n",
    "show(p)"
   ]
  },
  {
   "cell_type": "markdown",
   "metadata": {},
   "source": [
    "OK, so none of the stations are particularly close, and none are on the plateu. So now we're choosing betweeen bad options. "
   ]
  },
  {
   "cell_type": "markdown",
   "metadata": {},
   "source": [
    "## Choose station based off correlation"
   ]
  },
  {
   "cell_type": "markdown",
   "metadata": {},
   "source": [
    "To choose between the nearby stations, lets look at how well the rainfall levels correlate with the river level. I expect that the relationship will between rainfall and river level will be highly non-linear and incorporate some time delay. So to simplify this correlation, lets just look at how well 'its rained in the last 3 days' correlates with 'river is now above its median height'. So we don't care about the exact relationship between how much the river goes up with different amounts of rainfall (that will be a job for the actual model), what we're looking at here is whether this rainfall gauge is indicative of rainfall in the river's catchment. "
   ]
  },
  {
   "cell_type": "markdown",
   "metadata": {},
   "source": [
    "For starters, lets simplify the river level data. We want to extract whether or not the river was above its median on each day."
   ]
  },
  {
   "cell_type": "code",
   "execution_count": 20,
   "metadata": {},
   "outputs": [],
   "source": [
    "median_level = df_levels.level.median()"
   ]
  },
  {
   "cell_type": "markdown",
   "metadata": {},
   "source": [
    "How often is the river above median? This approach is based off the assumption that its relatively rare. "
   ]
  },
  {
   "cell_type": "code",
   "execution_count": 21,
   "metadata": {},
   "outputs": [],
   "source": [
    "df_levels_max_daily = df_levels.groupby(df_levels.index.date).max()\n",
    "df_levels_max_daily.index = pd.to_datetime(df_levels_max_daily.index)"
   ]
  },
  {
   "cell_type": "code",
   "execution_count": 22,
   "metadata": {},
   "outputs": [
    {
     "data": {
      "text/plain": [
       "0.5270139309509388"
      ]
     },
     "execution_count": 22,
     "metadata": {},
     "output_type": "execute_result"
    }
   ],
   "source": [
    "n_days = len(df_levels_max_daily)\n",
    "n_days_above_median = len(df_levels_max_daily[df_levels_max_daily['level']>median_level])\n",
    "n_days_above_median / n_days"
   ]
  },
  {
   "cell_type": "markdown",
   "metadata": {},
   "source": [
    "And how often does it rain?"
   ]
  },
  {
   "cell_type": "code",
   "execution_count": 23,
   "metadata": {},
   "outputs": [
    {
     "data": {
      "text/plain": [
       "0.2892534464004262"
      ]
     },
     "execution_count": 23,
     "metadata": {},
     "output_type": "execute_result"
    }
   ],
   "source": [
    "nearest_station_id = get_id_nth_nearest_station(lat, lon, df_stations, 1)\n",
    "rainfall_at_nearest = df_rainfall.loc[nearest_station_id]\n",
    "n_days = len(rainfall_at_nearest)\n",
    "n_rainy_days = len(rainfall_at_nearest[rainfall_at_nearest.rainfall>0])\n",
    "n_rainy_days/n_days"
   ]
  },
  {
   "cell_type": "markdown",
   "metadata": {},
   "source": [
    "### Merge gauge with nearby rainfall at given time"
   ]
  },
  {
   "cell_type": "markdown",
   "metadata": {},
   "source": [
    "Match each river level with the rainfall of the previous day - at a particular gauge"
   ]
  },
  {
   "cell_type": "code",
   "execution_count": 76,
   "metadata": {},
   "outputs": [],
   "source": [
    "def get_rainfall_at_station(df_rainfall, station_id):\n",
    "    rainfall_at_nearest = df_rainfall.loc[station_id]\n",
    "    rainfall_at_nearest.index = pd.to_datetime(rainfall_at_nearest.index)\n",
    "    return rainfall_at_nearest"
   ]
  },
  {
   "cell_type": "code",
   "execution_count": 96,
   "metadata": {},
   "outputs": [
    {
     "data": {
      "text/html": [
       "<div>\n",
       "<style scoped>\n",
       "    .dataframe tbody tr th:only-of-type {\n",
       "        vertical-align: middle;\n",
       "    }\n",
       "\n",
       "    .dataframe tbody tr th {\n",
       "        vertical-align: top;\n",
       "    }\n",
       "\n",
       "    .dataframe thead th {\n",
       "        text-align: right;\n",
       "    }\n",
       "</style>\n",
       "<table border=\"1\" class=\"dataframe\">\n",
       "  <thead>\n",
       "    <tr style=\"text-align: right;\">\n",
       "      <th></th>\n",
       "      <th>level</th>\n",
       "      <th>68136</th>\n",
       "      <th>68003</th>\n",
       "      <th>68031</th>\n",
       "      <th>68168</th>\n",
       "      <th>68076</th>\n",
       "      <th>68154</th>\n",
       "      <th>70078</th>\n",
       "      <th>68166</th>\n",
       "      <th>70039</th>\n",
       "      <th>69049</th>\n",
       "      <th>48178</th>\n",
       "    </tr>\n",
       "  </thead>\n",
       "  <tbody>\n",
       "    <tr>\n",
       "      <th>1973-01-12</th>\n",
       "      <td>0.837</td>\n",
       "      <td>NaN</td>\n",
       "      <td>0.0</td>\n",
       "      <td>NaN</td>\n",
       "      <td>0.0</td>\n",
       "      <td>0.0</td>\n",
       "      <td>NaN</td>\n",
       "      <td>NaN</td>\n",
       "      <td>0.0</td>\n",
       "      <td>0.0</td>\n",
       "      <td>0.0</td>\n",
       "      <td>NaN</td>\n",
       "    </tr>\n",
       "    <tr>\n",
       "      <th>1973-02-12</th>\n",
       "      <td>0.747</td>\n",
       "      <td>NaN</td>\n",
       "      <td>9.9</td>\n",
       "      <td>NaN</td>\n",
       "      <td>8.6</td>\n",
       "      <td>3.3</td>\n",
       "      <td>NaN</td>\n",
       "      <td>NaN</td>\n",
       "      <td>2.8</td>\n",
       "      <td>4.6</td>\n",
       "      <td>4.8</td>\n",
       "      <td>NaN</td>\n",
       "    </tr>\n",
       "    <tr>\n",
       "      <th>1973-03-12</th>\n",
       "      <td>0.746</td>\n",
       "      <td>NaN</td>\n",
       "      <td>0.0</td>\n",
       "      <td>NaN</td>\n",
       "      <td>0.0</td>\n",
       "      <td>0.0</td>\n",
       "      <td>NaN</td>\n",
       "      <td>NaN</td>\n",
       "      <td>0.0</td>\n",
       "      <td>0.0</td>\n",
       "      <td>0.0</td>\n",
       "      <td>NaN</td>\n",
       "    </tr>\n",
       "    <tr>\n",
       "      <th>1973-04-12</th>\n",
       "      <td>0.688</td>\n",
       "      <td>NaN</td>\n",
       "      <td>3.6</td>\n",
       "      <td>NaN</td>\n",
       "      <td>0.0</td>\n",
       "      <td>3.0</td>\n",
       "      <td>NaN</td>\n",
       "      <td>NaN</td>\n",
       "      <td>1.0</td>\n",
       "      <td>3.8</td>\n",
       "      <td>0.8</td>\n",
       "      <td>NaN</td>\n",
       "    </tr>\n",
       "    <tr>\n",
       "      <th>1973-05-12</th>\n",
       "      <td>0.861</td>\n",
       "      <td>NaN</td>\n",
       "      <td>0.0</td>\n",
       "      <td>NaN</td>\n",
       "      <td>0.0</td>\n",
       "      <td>0.0</td>\n",
       "      <td>NaN</td>\n",
       "      <td>NaN</td>\n",
       "      <td>0.0</td>\n",
       "      <td>0.0</td>\n",
       "      <td>0.0</td>\n",
       "      <td>NaN</td>\n",
       "    </tr>\n",
       "    <tr>\n",
       "      <th>...</th>\n",
       "      <td>...</td>\n",
       "      <td>...</td>\n",
       "      <td>...</td>\n",
       "      <td>...</td>\n",
       "      <td>...</td>\n",
       "      <td>...</td>\n",
       "      <td>...</td>\n",
       "      <td>...</td>\n",
       "      <td>...</td>\n",
       "      <td>...</td>\n",
       "      <td>...</td>\n",
       "      <td>...</td>\n",
       "    </tr>\n",
       "    <tr>\n",
       "      <th>2020-11-04</th>\n",
       "      <td>0.447</td>\n",
       "      <td>NaN</td>\n",
       "      <td>NaN</td>\n",
       "      <td>NaN</td>\n",
       "      <td>NaN</td>\n",
       "      <td>NaN</td>\n",
       "      <td>NaN</td>\n",
       "      <td>NaN</td>\n",
       "      <td>NaN</td>\n",
       "      <td>NaN</td>\n",
       "      <td>NaN</td>\n",
       "      <td>NaN</td>\n",
       "    </tr>\n",
       "    <tr>\n",
       "      <th>2020-12-01</th>\n",
       "      <td>0.140</td>\n",
       "      <td>NaN</td>\n",
       "      <td>NaN</td>\n",
       "      <td>NaN</td>\n",
       "      <td>NaN</td>\n",
       "      <td>NaN</td>\n",
       "      <td>NaN</td>\n",
       "      <td>NaN</td>\n",
       "      <td>NaN</td>\n",
       "      <td>NaN</td>\n",
       "      <td>NaN</td>\n",
       "      <td>NaN</td>\n",
       "    </tr>\n",
       "    <tr>\n",
       "      <th>2020-12-02</th>\n",
       "      <td>1.918</td>\n",
       "      <td>NaN</td>\n",
       "      <td>NaN</td>\n",
       "      <td>NaN</td>\n",
       "      <td>NaN</td>\n",
       "      <td>NaN</td>\n",
       "      <td>NaN</td>\n",
       "      <td>NaN</td>\n",
       "      <td>NaN</td>\n",
       "      <td>NaN</td>\n",
       "      <td>NaN</td>\n",
       "      <td>NaN</td>\n",
       "    </tr>\n",
       "    <tr>\n",
       "      <th>2020-12-03</th>\n",
       "      <td>0.517</td>\n",
       "      <td>NaN</td>\n",
       "      <td>NaN</td>\n",
       "      <td>NaN</td>\n",
       "      <td>NaN</td>\n",
       "      <td>NaN</td>\n",
       "      <td>NaN</td>\n",
       "      <td>NaN</td>\n",
       "      <td>NaN</td>\n",
       "      <td>NaN</td>\n",
       "      <td>NaN</td>\n",
       "      <td>NaN</td>\n",
       "    </tr>\n",
       "    <tr>\n",
       "      <th>2020-12-04</th>\n",
       "      <td>0.440</td>\n",
       "      <td>NaN</td>\n",
       "      <td>NaN</td>\n",
       "      <td>NaN</td>\n",
       "      <td>NaN</td>\n",
       "      <td>NaN</td>\n",
       "      <td>NaN</td>\n",
       "      <td>NaN</td>\n",
       "      <td>NaN</td>\n",
       "      <td>NaN</td>\n",
       "      <td>NaN</td>\n",
       "      <td>NaN</td>\n",
       "    </tr>\n",
       "  </tbody>\n",
       "</table>\n",
       "<p>16510 rows × 12 columns</p>\n",
       "</div>"
      ],
      "text/plain": [
       "            level  68136  68003  68031  68168  68076  68154  70078  68166  \\\n",
       "1973-01-12  0.837    NaN    0.0    NaN    0.0    0.0    NaN    NaN    0.0   \n",
       "1973-02-12  0.747    NaN    9.9    NaN    8.6    3.3    NaN    NaN    2.8   \n",
       "1973-03-12  0.746    NaN    0.0    NaN    0.0    0.0    NaN    NaN    0.0   \n",
       "1973-04-12  0.688    NaN    3.6    NaN    0.0    3.0    NaN    NaN    1.0   \n",
       "1973-05-12  0.861    NaN    0.0    NaN    0.0    0.0    NaN    NaN    0.0   \n",
       "...           ...    ...    ...    ...    ...    ...    ...    ...    ...   \n",
       "2020-11-04  0.447    NaN    NaN    NaN    NaN    NaN    NaN    NaN    NaN   \n",
       "2020-12-01  0.140    NaN    NaN    NaN    NaN    NaN    NaN    NaN    NaN   \n",
       "2020-12-02  1.918    NaN    NaN    NaN    NaN    NaN    NaN    NaN    NaN   \n",
       "2020-12-03  0.517    NaN    NaN    NaN    NaN    NaN    NaN    NaN    NaN   \n",
       "2020-12-04  0.440    NaN    NaN    NaN    NaN    NaN    NaN    NaN    NaN   \n",
       "\n",
       "            70039  69049  48178  \n",
       "1973-01-12    0.0    0.0    NaN  \n",
       "1973-02-12    4.6    4.8    NaN  \n",
       "1973-03-12    0.0    0.0    NaN  \n",
       "1973-04-12    3.8    0.8    NaN  \n",
       "1973-05-12    0.0    0.0    NaN  \n",
       "...           ...    ...    ...  \n",
       "2020-11-04    NaN    NaN    NaN  \n",
       "2020-12-01    NaN    NaN    NaN  \n",
       "2020-12-02    NaN    NaN    NaN  \n",
       "2020-12-03    NaN    NaN    NaN  \n",
       "2020-12-04    NaN    NaN    NaN  \n",
       "\n",
       "[16510 rows x 12 columns]"
      ]
     },
     "execution_count": 96,
     "metadata": {},
     "output_type": "execute_result"
    }
   ],
   "source": [
    "df_kang = df_levels_max_daily\n",
    "nearest_station_ids = [get_id_nth_nearest_station(lat, lon, df_stations, i) for i in range(10)]\n",
    "nearest_station_ids.append(get_id_nth_nearest_station(lat, lon, df_stations, -1))\n",
    "for nth_nearest_station_id in nearest_station_ids:\n",
    "    rainfall_at_nearest = get_rainfall_at_station(df_rainfall, nth_nearest_station_id)\n",
    "\n",
    "    df_kang = pd.merge(df_kang, rainfall_at_nearest['rainfall'], left_index=True, right_index=True, how='left')\n",
    "    df_kang = df_kang.rename(columns={'rainfall': nth_nearest_station_id})\n",
    "df_kang"
   ]
  },
  {
   "cell_type": "markdown",
   "metadata": {},
   "source": [
    "I think this'll be a good format to work with for checking which rainfall stations is best to use for this gauge. The index is the timestamp, so we're matching up observations with time. The river level has been selected for the max river level which occured that day since we had hourly data. Then for each of the rainfall stations of interest (close stations chosen here), we have a column of rainfall recorded at that station on that day.  "
   ]
  },
  {
   "cell_type": "code",
   "execution_count": 97,
   "metadata": {},
   "outputs": [],
   "source": [
    "def plot_correlation_at_lags(df, station_id, max_lag):\n",
    "    c = [df_kang['level'].corr(df_kang[station_id].shift(i)) for i in range(max_lag)]\n",
    "\n",
    "    if not any([math.isnan(v) for v in c]):\n",
    "        plt.plot(range(max_lag), c)"
   ]
  },
  {
   "cell_type": "code",
   "execution_count": 102,
   "metadata": {},
   "outputs": [
    {
     "data": {
      "image/png": "[encoded data removed]",
      "text/plain": [
       "<Figure size 432x288 with 1 Axes>"
      ]
     },
     "metadata": {},
     "output_type": "display_data"
    }
   ],
   "source": [
    "for nth_nearest_station_id in nearest_station_ids:\n",
    "    plot_correlation_at_lags(df_kang, nth_nearest_station_id, 10)\n",
    "plt.title(\"Correlation between rainfall and river level\")\n",
    "plt.xlabel(\"lag (days)\")\n",
    "plt.ylabel(\"correlation\")\n",
    "plt.legend(nearest_station_ids, title='gauge id')\n",
    "plt.show()"
   ]
  },
  {
   "cell_type": "markdown",
   "metadata": {},
   "source": [
    "Here we look at how well the rainfall correlates with the river level at different gauges, and with different amounts of lag. As we would expect for such a small volume (highly responsive) river, the best indicator of today's river level is today's rainfall. We also note that the correlation with rainfall stations which are nearby are all high relative to the one rainfall station which was chosen to be far away. \n",
    "\n",
    "Interestingly, the nearest rainfall station is not the most highly correlated. "
   ]
  },
  {
   "cell_type": "markdown",
   "metadata": {},
   "source": [
    "However, as we mentioned at the start of this section, correlation is not a great measure of the quality of the predictor for this relation becuuase we expect it is highly non-linear. \n",
    "Instead, what we were going to do was use 'it rained'/'it didn't rain' against 'river levels are high' or 'river levels are not high' and see how good the correlation is there. This will be a less nuanced measure, but should also have less noise due to differing shapes of the relationships.  "
   ]
  },
  {
   "cell_type": "code",
   "execution_count": null,
   "metadata": {},
   "outputs": [],
   "source": []
  }
 ],
 "metadata": {
  "kernelspec": {
   "display_name": "river_levels",
   "language": "python",
   "name": "river_levels"
  },
  "language_info": {
   "codemirror_mode": {
    "name": "ipython",
    "version": 3
   },
   "file_extension": ".py",
   "mimetype": "text/x-python",
   "name": "python",
   "nbconvert_exporter": "python",
   "pygments_lexer": "ipython3",
   "version": "3.7.7"
  }
 },
 "nbformat": 4,
 "nbformat_minor": 4
}
